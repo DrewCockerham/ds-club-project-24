{
 "cells": [
  {
   "cell_type": "code",
   "execution_count": 1,
   "id": "be851431-4301-48ce-a044-07fc51484771",
   "metadata": {},
   "outputs": [
    {
     "name": "stderr",
     "output_type": "stream",
     "text": [
      "/var/folders/t1/8mb76jdj5yq__c510cnxz6000000gn/T/ipykernel_5294/4080736814.py:1: DeprecationWarning: \n",
      "Pyarrow will become a required dependency of pandas in the next major release of pandas (pandas 3.0),\n",
      "(to allow more performant data types, such as the Arrow string type, and better interoperability with other libraries)\n",
      "but was not found to be installed on your system.\n",
      "If this would cause problems for you,\n",
      "please provide us feedback at https://github.com/pandas-dev/pandas/issues/54466\n",
      "        \n",
      "  import pandas as pd\n"
     ]
    }
   ],
   "source": [
    "import pandas as pd"
   ]
  },
  {
   "cell_type": "code",
   "execution_count": 2,
   "id": "3142fc7e-9fd6-487d-b2d4-9a5f19e12a1a",
   "metadata": {},
   "outputs": [],
   "source": [
    "import numpy as np"
   ]
  },
  {
   "cell_type": "code",
   "execution_count": 3,
   "id": "1916fb17-a326-4315-a18a-170bb6ad480e",
   "metadata": {},
   "outputs": [
    {
     "name": "stderr",
     "output_type": "stream",
     "text": [
      "/Library/Frameworks/Python.framework/Versions/3.11/lib/python3.11/site-packages/tqdm/auto.py:21: TqdmWarning: IProgress not found. Please update jupyter and ipywidgets. See https://ipywidgets.readthedocs.io/en/stable/user_install.html\n",
      "  from .autonotebook import tqdm as notebook_tqdm\n"
     ]
    }
   ],
   "source": [
    "from sentence_transformers import SentenceTransformer\n",
    "\n",
    "model = SentenceTransformer(\"sentence-transformers/all-MiniLM-L6-v2\")"
   ]
  },
  {
   "cell_type": "code",
   "execution_count": 4,
   "id": "92da9d29-280c-4e40-bad4-9d3251622b6f",
   "metadata": {},
   "outputs": [],
   "source": [
    "\n",
    "from sklearn.preprocessing import StandardScaler  # to standardize the features\n",
    "from sklearn.decomposition import PCA  # to apply PCA"
   ]
  },
  {
   "cell_type": "code",
   "execution_count": 5,
   "id": "96f00b28-e663-467a-a7e0-dbdfdf712edd",
   "metadata": {},
   "outputs": [],
   "source": [
    "df1 = pd.read_csv(\"/Users/drew/data science club project/data_042424.csv\", low_memory=False)"
   ]
  },
  {
   "cell_type": "code",
   "execution_count": 6,
   "id": "9a7dffda-0bbb-4b04-b5f6-e19fccddc411",
   "metadata": {},
   "outputs": [
    {
     "data": {
      "text/html": [
       "<div>\n",
       "<style scoped>\n",
       "    .dataframe tbody tr th:only-of-type {\n",
       "        vertical-align: middle;\n",
       "    }\n",
       "\n",
       "    .dataframe tbody tr th {\n",
       "        vertical-align: top;\n",
       "    }\n",
       "\n",
       "    .dataframe thead th {\n",
       "        text-align: right;\n",
       "    }\n",
       "</style>\n",
       "<table border=\"1\" class=\"dataframe\">\n",
       "  <thead>\n",
       "    <tr style=\"text-align: right;\">\n",
       "      <th></th>\n",
       "      <th>titleId</th>\n",
       "      <th>imdb score</th>\n",
       "      <th>numVotes imdb</th>\n",
       "      <th>primaryTitle</th>\n",
       "      <th>originalTitle</th>\n",
       "      <th>runtimeMinutes</th>\n",
       "      <th>genres</th>\n",
       "      <th>release date</th>\n",
       "      <th>cover url</th>\n",
       "      <th>videos</th>\n",
       "      <th>...</th>\n",
       "      <th>no of production companies</th>\n",
       "      <th>no of distributors</th>\n",
       "      <th>cast</th>\n",
       "      <th>director</th>\n",
       "      <th>cinematographer</th>\n",
       "      <th>writer</th>\n",
       "      <th>composer</th>\n",
       "      <th>producer</th>\n",
       "      <th>production company</th>\n",
       "      <th>distributor</th>\n",
       "    </tr>\n",
       "  </thead>\n",
       "  <tbody>\n",
       "    <tr>\n",
       "      <th>0</th>\n",
       "      <td>tt0468569</td>\n",
       "      <td>9.0</td>\n",
       "      <td>2834864</td>\n",
       "      <td>The Dark Knight</td>\n",
       "      <td>The Dark Knight</td>\n",
       "      <td>152.0</td>\n",
       "      <td>Action,Crime,Drama</td>\n",
       "      <td>18 Jul 2008 (USA)</td>\n",
       "      <td>https://m.media-amazon.com/images/M/MV5BMTMxNT...</td>\n",
       "      <td>['http://www.imdb.com/title/tt0468569/videopla...</td>\n",
       "      <td>...</td>\n",
       "      <td>4</td>\n",
       "      <td>45</td>\n",
       "      <td>cast: Christian Bale,Heath Ledger,Aaron Eckhar...</td>\n",
       "      <td>directors: Christopher Nolan</td>\n",
       "      <td>cinematographers: Wally Pfister</td>\n",
       "      <td>writers: Jonathan Nolan,Christopher Nolan,None...</td>\n",
       "      <td>composers: James Newton Howard,Hans Zimmer</td>\n",
       "      <td>producers: Kevin de la Noy,Jordan Goldberg,Phi...</td>\n",
       "      <td>production companies: DC Comics,Legendary Ente...</td>\n",
       "      <td>distributors: 9Go!,Alexandra Films,Amazon Prim...</td>\n",
       "    </tr>\n",
       "    <tr>\n",
       "      <th>1</th>\n",
       "      <td>tt1375666</td>\n",
       "      <td>8.8</td>\n",
       "      <td>2517022</td>\n",
       "      <td>Inception</td>\n",
       "      <td>Inception</td>\n",
       "      <td>148.0</td>\n",
       "      <td>Action,Adventure,Sci-Fi</td>\n",
       "      <td>16 Jul 2010 (USA)</td>\n",
       "      <td>https://m.media-amazon.com/images/M/MV5BMjAxMz...</td>\n",
       "      <td>['http://www.imdb.com/title/tt1375666/videopla...</td>\n",
       "      <td>...</td>\n",
       "      <td>3</td>\n",
       "      <td>32</td>\n",
       "      <td>cast: Leonardo DiCaprio,Joseph Gordon-Levitt,E...</td>\n",
       "      <td>directors: Christopher Nolan</td>\n",
       "      <td>cinematographers: Wally Pfister</td>\n",
       "      <td>writers: Christopher Nolan</td>\n",
       "      <td>composers: Hans Zimmer</td>\n",
       "      <td>producers: Zakaria Alaoui,John Bernard,Chris B...</td>\n",
       "      <td>production companies: Legendary Entertainment,...</td>\n",
       "      <td>distributors: 9Go!,Alexandra Films,Amazon Prim...</td>\n",
       "    </tr>\n",
       "    <tr>\n",
       "      <th>2</th>\n",
       "      <td>tt0816692</td>\n",
       "      <td>8.7</td>\n",
       "      <td>2052953</td>\n",
       "      <td>Interstellar</td>\n",
       "      <td>Interstellar</td>\n",
       "      <td>169.0</td>\n",
       "      <td>Adventure,Drama,Sci-Fi</td>\n",
       "      <td>07 Nov 2014 (USA)</td>\n",
       "      <td>https://m.media-amazon.com/images/M/MV5BZjdkOT...</td>\n",
       "      <td>['http://www.imdb.com/title/tt0816692/videopla...</td>\n",
       "      <td>...</td>\n",
       "      <td>8</td>\n",
       "      <td>28</td>\n",
       "      <td>cast: Ellen Burstyn,Matthew McConaughey,Macken...</td>\n",
       "      <td>directors: Christopher Nolan</td>\n",
       "      <td>cinematographers: Hoyte Van Hoytema</td>\n",
       "      <td>writers: Jonathan Nolan,Christopher Nolan</td>\n",
       "      <td>composers: Hans Zimmer</td>\n",
       "      <td>producers: Kaari Autry,Jenny Basen,Jill Christ...</td>\n",
       "      <td>production companies:  Alberta Media Fund,Atvi...</td>\n",
       "      <td>distributors: 9Go!,Alexandra Films,Cocinsa,Fil...</td>\n",
       "    </tr>\n",
       "    <tr>\n",
       "      <th>3</th>\n",
       "      <td>tt0120737</td>\n",
       "      <td>8.9</td>\n",
       "      <td>1982370</td>\n",
       "      <td>The Lord of the Rings: The Fellowship of the Ring</td>\n",
       "      <td>The Lord of the Rings: The Fellowship of the Ring</td>\n",
       "      <td>178.0</td>\n",
       "      <td>Action,Adventure,Drama</td>\n",
       "      <td>19 Dec 2001 (USA)</td>\n",
       "      <td>https://m.media-amazon.com/images/M/MV5BN2EyZj...</td>\n",
       "      <td>['http://www.imdb.com/title/tt0120737/videopla...</td>\n",
       "      <td>...</td>\n",
       "      <td>4</td>\n",
       "      <td>52</td>\n",
       "      <td>cast: Alan Howard,Noel Appleby,Sean Astin,Sala...</td>\n",
       "      <td>directors: Peter Jackson</td>\n",
       "      <td>cinematographers: Andrew Lesnie</td>\n",
       "      <td>writers: J.R.R. Tolkien,None,Fran Walsh,Philip...</td>\n",
       "      <td>composers: Howard Shore</td>\n",
       "      <td>producers: Peter Jackson,Michael Lynne,Mark Or...</td>\n",
       "      <td>production companies: Marzano Films,New Line C...</td>\n",
       "      <td>distributors: 7flix,9Go!,A-Film Distribution,A...</td>\n",
       "    </tr>\n",
       "    <tr>\n",
       "      <th>4</th>\n",
       "      <td>tt0167260</td>\n",
       "      <td>9.0</td>\n",
       "      <td>1954914</td>\n",
       "      <td>The Lord of the Rings: The Return of the King</td>\n",
       "      <td>The Lord of the Rings: The Return of the King</td>\n",
       "      <td>201.0</td>\n",
       "      <td>Action,Adventure,Drama</td>\n",
       "      <td>17 Dec 2003 (USA)</td>\n",
       "      <td>https://m.media-amazon.com/images/M/MV5BNzA5ZD...</td>\n",
       "      <td>['http://www.imdb.com/title/tt0167260/videopla...</td>\n",
       "      <td>...</td>\n",
       "      <td>3</td>\n",
       "      <td>50</td>\n",
       "      <td>cast: Noel Appleby,Ali Astin,Sean Astin,David ...</td>\n",
       "      <td>directors: Peter Jackson</td>\n",
       "      <td>cinematographers: Andrew Lesnie</td>\n",
       "      <td>writers: J.R.R. Tolkien,None,Fran Walsh,Philip...</td>\n",
       "      <td>composers: Howard Shore</td>\n",
       "      <td>producers: Peter Jackson,Michael Lynne,Eric Mo...</td>\n",
       "      <td>production companies: New Line Cinema,The Saul...</td>\n",
       "      <td>distributors: 7flix,A-Film Distribution,A-Film...</td>\n",
       "    </tr>\n",
       "  </tbody>\n",
       "</table>\n",
       "<p>5 rows × 28 columns</p>\n",
       "</div>"
      ],
      "text/plain": [
       "     titleId  imdb score  numVotes imdb  \\\n",
       "0  tt0468569         9.0        2834864   \n",
       "1  tt1375666         8.8        2517022   \n",
       "2  tt0816692         8.7        2052953   \n",
       "3  tt0120737         8.9        1982370   \n",
       "4  tt0167260         9.0        1954914   \n",
       "\n",
       "                                        primaryTitle  \\\n",
       "0                                    The Dark Knight   \n",
       "1                                          Inception   \n",
       "2                                       Interstellar   \n",
       "3  The Lord of the Rings: The Fellowship of the Ring   \n",
       "4      The Lord of the Rings: The Return of the King   \n",
       "\n",
       "                                       originalTitle  runtimeMinutes  \\\n",
       "0                                    The Dark Knight           152.0   \n",
       "1                                          Inception           148.0   \n",
       "2                                       Interstellar           169.0   \n",
       "3  The Lord of the Rings: The Fellowship of the Ring           178.0   \n",
       "4      The Lord of the Rings: The Return of the King           201.0   \n",
       "\n",
       "                    genres       release date  \\\n",
       "0       Action,Crime,Drama  18 Jul 2008 (USA)   \n",
       "1  Action,Adventure,Sci-Fi  16 Jul 2010 (USA)   \n",
       "2   Adventure,Drama,Sci-Fi  07 Nov 2014 (USA)   \n",
       "3   Action,Adventure,Drama  19 Dec 2001 (USA)   \n",
       "4   Action,Adventure,Drama  17 Dec 2003 (USA)   \n",
       "\n",
       "                                           cover url  \\\n",
       "0  https://m.media-amazon.com/images/M/MV5BMTMxNT...   \n",
       "1  https://m.media-amazon.com/images/M/MV5BMjAxMz...   \n",
       "2  https://m.media-amazon.com/images/M/MV5BZjdkOT...   \n",
       "3  https://m.media-amazon.com/images/M/MV5BN2EyZj...   \n",
       "4  https://m.media-amazon.com/images/M/MV5BNzA5ZD...   \n",
       "\n",
       "                                              videos  ...  \\\n",
       "0  ['http://www.imdb.com/title/tt0468569/videopla...  ...   \n",
       "1  ['http://www.imdb.com/title/tt1375666/videopla...  ...   \n",
       "2  ['http://www.imdb.com/title/tt0816692/videopla...  ...   \n",
       "3  ['http://www.imdb.com/title/tt0120737/videopla...  ...   \n",
       "4  ['http://www.imdb.com/title/tt0167260/videopla...  ...   \n",
       "\n",
       "  no of production companies no of distributors  \\\n",
       "0                          4                 45   \n",
       "1                          3                 32   \n",
       "2                          8                 28   \n",
       "3                          4                 52   \n",
       "4                          3                 50   \n",
       "\n",
       "                                                cast  \\\n",
       "0  cast: Christian Bale,Heath Ledger,Aaron Eckhar...   \n",
       "1  cast: Leonardo DiCaprio,Joseph Gordon-Levitt,E...   \n",
       "2  cast: Ellen Burstyn,Matthew McConaughey,Macken...   \n",
       "3  cast: Alan Howard,Noel Appleby,Sean Astin,Sala...   \n",
       "4  cast: Noel Appleby,Ali Astin,Sean Astin,David ...   \n",
       "\n",
       "                       director                      cinematographer  \\\n",
       "0  directors: Christopher Nolan      cinematographers: Wally Pfister   \n",
       "1  directors: Christopher Nolan      cinematographers: Wally Pfister   \n",
       "2  directors: Christopher Nolan  cinematographers: Hoyte Van Hoytema   \n",
       "3      directors: Peter Jackson      cinematographers: Andrew Lesnie   \n",
       "4      directors: Peter Jackson      cinematographers: Andrew Lesnie   \n",
       "\n",
       "                                              writer  \\\n",
       "0  writers: Jonathan Nolan,Christopher Nolan,None...   \n",
       "1                         writers: Christopher Nolan   \n",
       "2          writers: Jonathan Nolan,Christopher Nolan   \n",
       "3  writers: J.R.R. Tolkien,None,Fran Walsh,Philip...   \n",
       "4  writers: J.R.R. Tolkien,None,Fran Walsh,Philip...   \n",
       "\n",
       "                                     composer  \\\n",
       "0  composers: James Newton Howard,Hans Zimmer   \n",
       "1                      composers: Hans Zimmer   \n",
       "2                      composers: Hans Zimmer   \n",
       "3                     composers: Howard Shore   \n",
       "4                     composers: Howard Shore   \n",
       "\n",
       "                                            producer  \\\n",
       "0  producers: Kevin de la Noy,Jordan Goldberg,Phi...   \n",
       "1  producers: Zakaria Alaoui,John Bernard,Chris B...   \n",
       "2  producers: Kaari Autry,Jenny Basen,Jill Christ...   \n",
       "3  producers: Peter Jackson,Michael Lynne,Mark Or...   \n",
       "4  producers: Peter Jackson,Michael Lynne,Eric Mo...   \n",
       "\n",
       "                                  production company  \\\n",
       "0  production companies: DC Comics,Legendary Ente...   \n",
       "1  production companies: Legendary Entertainment,...   \n",
       "2  production companies:  Alberta Media Fund,Atvi...   \n",
       "3  production companies: Marzano Films,New Line C...   \n",
       "4  production companies: New Line Cinema,The Saul...   \n",
       "\n",
       "                                         distributor  \n",
       "0  distributors: 9Go!,Alexandra Films,Amazon Prim...  \n",
       "1  distributors: 9Go!,Alexandra Films,Amazon Prim...  \n",
       "2  distributors: 9Go!,Alexandra Films,Cocinsa,Fil...  \n",
       "3  distributors: 7flix,9Go!,A-Film Distribution,A...  \n",
       "4  distributors: 7flix,A-Film Distribution,A-Film...  \n",
       "\n",
       "[5 rows x 28 columns]"
      ]
     },
     "execution_count": 6,
     "metadata": {},
     "output_type": "execute_result"
    }
   ],
   "source": [
    "df1.head()"
   ]
  },
  {
   "cell_type": "code",
   "execution_count": 7,
   "id": "804c8f1c-1ef5-41ad-817c-f814b0932df9",
   "metadata": {},
   "outputs": [
    {
     "data": {
      "text/plain": [
       "Index(['titleId', 'imdb score', 'numVotes imdb', 'primaryTitle',\n",
       "       'originalTitle', 'runtimeMinutes', 'genres', 'release date',\n",
       "       'cover url', 'videos', 'plot outline', 'languages', 'no of cast',\n",
       "       'no of writers', 'no of directors', 'no of composers',\n",
       "       'no of producers', 'no of cinematographers',\n",
       "       'no of production companies', 'no of distributors', 'cast', 'director',\n",
       "       'cinematographer', 'writer', 'composer', 'producer',\n",
       "       'production company', 'distributor'],\n",
       "      dtype='object')"
      ]
     },
     "execution_count": 7,
     "metadata": {},
     "output_type": "execute_result"
    }
   ],
   "source": [
    "df1.columns"
   ]
  },
  {
   "cell_type": "code",
   "execution_count": 8,
   "id": "253fd731-cf7a-4402-a381-bda2fef1a45f",
   "metadata": {},
   "outputs": [
    {
     "name": "stdout",
     "output_type": "stream",
     "text": [
      "['Action', 'Crime', 'Drama', 'Adventure', 'Sci-Fi', 'Thriller', 'Western', 'War', 'Biography', 'Comedy', 'Mystery', 'Fantasy', 'Animation', 'Family', 'Romance', 'Music', 'Horror', 'History', 'Sport', 'Musical', 'Documentary', 'News', nan, 'Reality-TV', 'Talk-Show', 'Adult']\n"
     ]
    }
   ],
   "source": [
    "all_genres = df1['genres'].str.split(',').explode().unique()\n",
    "\n",
    "# Convert to a list (optional, as .unique() already returns a numpy array of unique items)\n",
    "unique_genres = list(all_genres)\n",
    "\n",
    "print(unique_genres)"
   ]
  },
  {
   "cell_type": "code",
   "execution_count": 9,
   "id": "9c8dd6d6-fa86-4d20-b1a7-d40091c8ba48",
   "metadata": {},
   "outputs": [
    {
     "name": "stdout",
     "output_type": "stream",
     "text": [
      "0\n"
     ]
    }
   ],
   "source": [
    "n=0\n",
    "for i in range(0,len(df1)):\n",
    "   if isinstance(df1.loc[i,'genres'],float):\n",
    "       df1.at[i,'genres']='Missing'\n",
    "print(n)"
   ]
  },
  {
   "cell_type": "code",
   "execution_count": 10,
   "id": "ede92ff7-c1e8-4173-8722-d245b884adb4",
   "metadata": {},
   "outputs": [
    {
     "name": "stdout",
     "output_type": "stream",
     "text": [
      "titleId\n",
      "0\n",
      "imdb score\n",
      "0\n",
      "numVotes imdb\n",
      "0\n",
      "primaryTitle\n",
      "0\n",
      "originalTitle\n",
      "0\n",
      "runtimeMinutes\n",
      "0\n",
      "genres\n",
      "0\n",
      "release date\n",
      "11528\n",
      "cover url\n",
      "122\n",
      "videos\n",
      "34374\n",
      "plot outline\n",
      "27845\n",
      "languages\n",
      "1083\n",
      "no of cast\n",
      "0\n",
      "no of writers\n",
      "0\n",
      "no of directors\n",
      "0\n",
      "no of composers\n",
      "0\n",
      "no of producers\n",
      "0\n",
      "no of cinematographers\n",
      "0\n",
      "no of production companies\n",
      "0\n",
      "no of distributors\n",
      "0\n",
      "cast\n",
      "0\n",
      "director\n",
      "0\n",
      "cinematographer\n",
      "0\n",
      "writer\n",
      "0\n",
      "composer\n",
      "0\n",
      "producer\n",
      "0\n",
      "production company\n",
      "0\n",
      "distributor\n",
      "0\n"
     ]
    }
   ],
   "source": [
    "for x in df1.columns:\n",
    "    print(x)\n",
    "    print(df1[x].isna().sum())"
   ]
  },
  {
   "cell_type": "code",
   "execution_count": 11,
   "id": "07289d37-72fa-489a-9d24-5725d3b2fadc",
   "metadata": {},
   "outputs": [],
   "source": []
  },
  {
   "cell_type": "code",
   "execution_count": 12,
   "id": "d6eb8b98-0559-4e2d-8d4a-f67423f7724b",
   "metadata": {},
   "outputs": [],
   "source": []
  },
  {
   "cell_type": "code",
   "execution_count": 13,
   "id": "644e496e-828a-4889-9710-193192b78509",
   "metadata": {},
   "outputs": [],
   "source": []
  },
  {
   "cell_type": "code",
   "execution_count": 27,
   "id": "d40d86cc-6f53-400f-ab6b-87d4bc4bae10",
   "metadata": {},
   "outputs": [],
   "source": [
    "for i in range(0,len(df1)):\n",
    "   df1.at[i,\"primaryTitle\"]=f\"title: {df1.loc[i,'primaryTitle']}\"\n",
    "title_list=[]\n",
    "for i in range(0,len(df1)):\n",
    "    title_list.append(df1.loc[i,'primaryTitle'])\n",
    "title_embeddings = model.encode(title_list)\n",
    "title_df = pd.DataFrame(title_embeddings)\n",
    "#title_df.to_csv(\"/Users/drew/data science club project/embeddings/title_embeddings_042624.csv\", index=False)"
   ]
  },
  {
   "cell_type": "code",
   "execution_count": 28,
   "id": "7c59a7ff-fcc8-4188-8457-bdbad85ec21d",
   "metadata": {},
   "outputs": [
    {
     "data": {
      "text/plain": [
       "'title: The Dark Knight'"
      ]
     },
     "execution_count": 28,
     "metadata": {},
     "output_type": "execute_result"
    }
   ],
   "source": [
    "df1.loc[0,'primaryTitle']"
   ]
  },
  {
   "cell_type": "code",
   "execution_count": 29,
   "id": "fc483533-9e39-432c-9308-64ee465a5143",
   "metadata": {},
   "outputs": [
    {
     "data": {
      "text/plain": [
       "'genre: Action,Crime,Drama'"
      ]
     },
     "execution_count": 29,
     "metadata": {},
     "output_type": "execute_result"
    }
   ],
   "source": [
    "df1.loc[0,'genres']"
   ]
  },
  {
   "cell_type": "code",
   "execution_count": 15,
   "id": "e2802bf3-2e89-4711-bde0-12f9a663afc1",
   "metadata": {},
   "outputs": [],
   "source": [
    "#df2 = pd.read_csv(\"/Users/drew/data science club project/whole_dataset.csv\", low_memory=False)"
   ]
  },
  {
   "cell_type": "code",
   "execution_count": 16,
   "id": "9bca607d-c3ae-4109-993a-ffa25a6dffb1",
   "metadata": {},
   "outputs": [],
   "source": [
    "#df2.columns"
   ]
  },
  {
   "cell_type": "code",
   "execution_count": 17,
   "id": "6326b3b0-639b-4c08-9c23-6440187d0d9c",
   "metadata": {},
   "outputs": [],
   "source": [
    "#df2['startYear'].isna().sum()"
   ]
  },
  {
   "cell_type": "code",
   "execution_count": 18,
   "id": "5204d633-0395-4620-867c-72780701e062",
   "metadata": {},
   "outputs": [],
   "source": [
    "#df2['original air date'].isna().sum()"
   ]
  },
  {
   "cell_type": "code",
   "execution_count": 19,
   "id": "b7a72cb8-870d-4a2c-a741-47c59cf268c1",
   "metadata": {},
   "outputs": [],
   "source": []
  },
  {
   "cell_type": "code",
   "execution_count": 20,
   "id": "18be3425-7676-41e5-b853-6965662e47ae",
   "metadata": {},
   "outputs": [],
   "source": []
  },
  {
   "cell_type": "code",
   "execution_count": 21,
   "id": "fab6f60a-0d68-41dd-b048-6b7487184a33",
   "metadata": {},
   "outputs": [],
   "source": [
    "# plot_list=[]"
   ]
  },
  {
   "cell_type": "code",
   "execution_count": 22,
   "id": "9e3eda84-5cb8-4cca-958d-ef890bb0d747",
   "metadata": {},
   "outputs": [],
   "source": [
    "# for i in range(0,len(df1)):\n",
    "#     plot_list.append(df1.loc[i,'plot outline'])"
   ]
  },
  {
   "cell_type": "code",
   "execution_count": 23,
   "id": "df9ed6f5-a102-4ffe-b886-fc7f2121c643",
   "metadata": {},
   "outputs": [],
   "source": [
    "# plot_embeddings = model.encode(plot_list)"
   ]
  },
  {
   "cell_type": "code",
   "execution_count": 24,
   "id": "bdb9a4bd-7732-4edf-874b-dd2db2275595",
   "metadata": {},
   "outputs": [
    {
     "ename": "NameError",
     "evalue": "name 'df2' is not defined",
     "output_type": "error",
     "traceback": [
      "\u001b[0;31m---------------------------------------------------------------------------\u001b[0m",
      "\u001b[0;31mNameError\u001b[0m                                 Traceback (most recent call last)",
      "Cell \u001b[0;32mIn[24], line 1\u001b[0m\n\u001b[0;32m----> 1\u001b[0m year \u001b[38;5;241m=\u001b[39m \u001b[43mdf2\u001b[49m[\u001b[38;5;124m'\u001b[39m\u001b[38;5;124mstartYear\u001b[39m\u001b[38;5;124m'\u001b[39m]\u001b[38;5;241m.\u001b[39mto_numpy()\n",
      "\u001b[0;31mNameError\u001b[0m: name 'df2' is not defined"
     ]
    }
   ],
   "source": [
    "year = df2['startYear'].to_numpy()"
   ]
  },
  {
   "cell_type": "code",
   "execution_count": null,
   "id": "dff745b1-86ec-40cf-8d5c-0441a4437a6a",
   "metadata": {},
   "outputs": [],
   "source": [
    "df1['year']=year"
   ]
  },
  {
   "cell_type": "code",
   "execution_count": null,
   "id": "9f0a729c-979a-492e-b34d-8aec38c4c8c6",
   "metadata": {},
   "outputs": [],
   "source": [
    "df1.columns"
   ]
  },
  {
   "cell_type": "code",
   "execution_count": null,
   "id": "d8de43fc-461f-49f7-9bba-5189fe024998",
   "metadata": {},
   "outputs": [],
   "source": [
    "df1['year'].unique()"
   ]
  },
  {
   "cell_type": "code",
   "execution_count": null,
   "id": "b56c16b9-26e6-4db1-b225-b2485ac45b5a",
   "metadata": {},
   "outputs": [],
   "source": [
    "#df1.to_csv(\"/Users/drew/data science club project/data_042624.csv\", index=False)"
   ]
  },
  {
   "cell_type": "code",
   "execution_count": null,
   "id": "70694a7a-dbb5-4674-9954-edbb15d88496",
   "metadata": {},
   "outputs": [],
   "source": [
    "type(df1.loc[0,'year'])"
   ]
  },
  {
   "cell_type": "code",
   "execution_count": null,
   "id": "87d818fb-b6ca-4e47-8d40-152e643e2be7",
   "metadata": {},
   "outputs": [],
   "source": [
    "df1.columns"
   ]
  },
  {
   "cell_type": "code",
   "execution_count": 26,
   "id": "c0e2db49-c901-4a9c-8c4e-70f8f4c6dfc6",
   "metadata": {},
   "outputs": [
    {
     "name": "stdout",
     "output_type": "stream",
     "text": [
      "1000                    Ralph Breaks the Internet\n",
      "1001                                    Nomadland\n",
      "1002                                        Radhe\n",
      "1003                                   Surrogates\n",
      "1004                                        RED 2\n",
      "                          ...                    \n",
      "1996                          What's Your Number?\n",
      "1997                    Pushpa: The Rise - Part 1\n",
      "1998         Bom yeoreum gaeul gyeoul geurigo bom\n",
      "1999         The Human Centipede (First Sequence)\n",
      "2000    Tropa de Elite 2: O Inimigo Agora é Outro\n",
      "Name: originalTitle, Length: 1001, dtype: object\n"
     ]
    }
   ],
   "source": [
    "print(df1.loc[1000:2000,'primaryTitle'])"
   ]
  },
  {
   "cell_type": "code",
   "execution_count": null,
   "id": "9bbcbf12-b437-48b0-a1e7-afce300b82f3",
   "metadata": {},
   "outputs": [],
   "source": []
  }
 ],
 "metadata": {
  "kernelspec": {
   "display_name": "Python 3 (ipykernel)",
   "language": "python",
   "name": "python3"
  },
  "language_info": {
   "codemirror_mode": {
    "name": "ipython",
    "version": 3
   },
   "file_extension": ".py",
   "mimetype": "text/x-python",
   "name": "python",
   "nbconvert_exporter": "python",
   "pygments_lexer": "ipython3",
   "version": "3.11.4"
  }
 },
 "nbformat": 4,
 "nbformat_minor": 5
}

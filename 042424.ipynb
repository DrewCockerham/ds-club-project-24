{
 "cells": [
  {
   "cell_type": "code",
   "execution_count": 1,
   "id": "f4e96e7f-f473-4330-9668-ad1574f76d27",
   "metadata": {},
   "outputs": [
    {
     "name": "stderr",
     "output_type": "stream",
     "text": [
      "/var/folders/t1/8mb76jdj5yq__c510cnxz6000000gn/T/ipykernel_33876/4080736814.py:1: DeprecationWarning: \n",
      "Pyarrow will become a required dependency of pandas in the next major release of pandas (pandas 3.0),\n",
      "(to allow more performant data types, such as the Arrow string type, and better interoperability with other libraries)\n",
      "but was not found to be installed on your system.\n",
      "If this would cause problems for you,\n",
      "please provide us feedback at https://github.com/pandas-dev/pandas/issues/54466\n",
      "        \n",
      "  import pandas as pd\n"
     ]
    }
   ],
   "source": [
    "import pandas as pd"
   ]
  },
  {
   "cell_type": "code",
   "execution_count": 2,
   "id": "8ddc90b3-7aa8-4560-86a3-1b718a67abca",
   "metadata": {},
   "outputs": [],
   "source": [
    "import re"
   ]
  },
  {
   "cell_type": "code",
   "execution_count": 3,
   "id": "0a585730-a33e-40b8-8ded-019b82e95716",
   "metadata": {},
   "outputs": [],
   "source": [
    "df1 = pd.read_csv(\"/Users/drew/data science club project/whole_dataset.csv\", low_memory=False)"
   ]
  },
  {
   "cell_type": "code",
   "execution_count": 4,
   "id": "4c0f536c-5bb3-4506-9187-9fc8a5648637",
   "metadata": {},
   "outputs": [],
   "source": [
    "# df1.loc[0,'production companies']"
   ]
  },
  {
   "cell_type": "code",
   "execution_count": 5,
   "id": "9922f2ed-c07a-47ab-ba38-320369679c44",
   "metadata": {},
   "outputs": [],
   "source": [
    "# item_string=df1.loc[0,\"cast\"]"
   ]
  },
  {
   "cell_type": "code",
   "execution_count": 6,
   "id": "8b1f9571-de34-4b5b-9957-2106380eb89b",
   "metadata": {},
   "outputs": [],
   "source": [
    "#pattern = r\"<Person id:(\\d+)\\[http\\]\"\n",
    "pattern = r\"name:_(.*?)_>\"\n",
    "#pattern2 = r\"<Company id:(\\d+)\\[http\\]\""
   ]
  },
  {
   "cell_type": "code",
   "execution_count": 7,
   "id": "4203f6b4-5fa3-41cc-a6e9-e2bc447b6534",
   "metadata": {},
   "outputs": [],
   "source": [
    "# ids = re.findall(pattern, item_string)\n",
    "\n",
    "# # Join the extracted IDs back into a comma-separated string\n",
    "# result_string = \",\".join(ids)\n",
    "\n",
    "# print(result_string)"
   ]
  },
  {
   "cell_type": "code",
   "execution_count": 8,
   "id": "2fd92c3e-92b3-4402-b3b1-388ac0080e61",
   "metadata": {},
   "outputs": [],
   "source": [
    "def extract_id(item):\n",
    "    # Check if the item is a string\n",
    "    if isinstance(item, str):\n",
    "        ids = re.findall(pattern, item)\n",
    "        result_string = \",\".join(ids)\n",
    "        return result_string\n",
    "    # Return None if item is not a string or no match is found\n",
    "    return None"
   ]
  },
  {
   "cell_type": "code",
   "execution_count": 9,
   "id": "6621f962-f49b-479c-9702-b099a3314caf",
   "metadata": {},
   "outputs": [],
   "source": [
    "df1.drop(columns=\"simple_id\", inplace=True)\n",
    "df1.rename(columns={\"original air date\":\"release date\"}, inplace=True)\n",
    "df1.rename(columns={\"averageRating\":\"imdb score\"}, inplace=True)\n",
    "df1.rename(columns={\"numVotes\":\"numVotes imdb\"}, inplace=True)"
   ]
  },
  {
   "cell_type": "code",
   "execution_count": 10,
   "id": "7f97e263-4f45-4cc2-bd44-db0238d29d29",
   "metadata": {},
   "outputs": [],
   "source": [
    "df1.drop(columns=\"startYear\", inplace=True)"
   ]
  },
  {
   "cell_type": "code",
   "execution_count": 11,
   "id": "df56c12e-569b-4465-9bd9-7575f47007cc",
   "metadata": {},
   "outputs": [
    {
     "data": {
      "text/plain": [
       "Index(['titleId', 'imdb score', 'numVotes imdb', 'primaryTitle',\n",
       "       'originalTitle', 'runtimeMinutes', 'genres', 'cast', 'release date',\n",
       "       'cover url', 'videos', 'plot outline', 'languages', 'director',\n",
       "       'writer', 'producer', 'cinematographer', 'editor',\n",
       "       'editorial department', 'casting director', 'production design',\n",
       "       'set decoration', 'costume designer', 'make up', 'production manager',\n",
       "       'assistant director', 'art department', 'sound crew',\n",
       "       'camera and electrical department', 'casting department',\n",
       "       'location management', 'miscellaneous crew', 'production companies',\n",
       "       'distributors', 'other companies', 'composer', 'art direction',\n",
       "       'visual effects', 'costume department', 'music department',\n",
       "       'script department', 'transportation department', 'special effects',\n",
       "       'special effects companies', 'animation department'],\n",
       "      dtype='object')"
      ]
     },
     "execution_count": 11,
     "metadata": {},
     "output_type": "execute_result"
    }
   ],
   "source": [
    "df1.columns"
   ]
  },
  {
   "cell_type": "code",
   "execution_count": 12,
   "id": "860558e3-e37b-43ca-ba4c-b6797f164786",
   "metadata": {},
   "outputs": [],
   "source": [
    "df1['cast names'] = df1['cast'].apply(lambda x: extract_id(x))\n",
    "df1['director names'] = df1['director'].apply(lambda x: extract_id(x))\n",
    "df1['writer names'] = df1['writer'].apply(lambda x: extract_id(x))\n",
    "df1['producer names'] = df1['producer'].apply(lambda x: extract_id(x))\n",
    "df1['cinematographer names'] = df1['cinematographer'].apply(lambda x: extract_id(x))\n",
    "df1['distributor names'] = df1['distributors'].apply(lambda x: extract_id(x))\n",
    "df1['production company names'] = df1['production companies'].apply(lambda x: extract_id(x))\n",
    "df1['composer names'] = df1['composer'].apply(lambda x: extract_id(x))"
   ]
  },
  {
   "cell_type": "code",
   "execution_count": 13,
   "id": "b6b41d5e-16b8-4202-8d64-62bd9f9f3f5a",
   "metadata": {},
   "outputs": [],
   "source": [
    "df1.drop(columns=['cast', 'director',\n",
    "       'writer', 'producer', 'cinematographer', 'editor',\n",
    "       'editorial department', 'casting director', 'production design',\n",
    "       'set decoration', 'costume designer', 'make up', 'production manager',\n",
    "       'assistant director', 'art department', 'sound crew',\n",
    "       'camera and electrical department', 'casting department',\n",
    "       'location management', 'miscellaneous crew', 'production companies',\n",
    "       'distributors', 'other companies', 'composer', 'art direction',\n",
    "       'visual effects', 'costume department', 'music department',\n",
    "       'script department', 'transportation department', 'special effects',\n",
    "       'special effects companies', 'animation department'], inplace=True)"
   ]
  },
  {
   "cell_type": "code",
   "execution_count": 14,
   "id": "5cc86244-1cb1-4989-96ca-09f5af2c356f",
   "metadata": {},
   "outputs": [
    {
     "data": {
      "text/plain": [
       "Index(['titleId', 'imdb score', 'numVotes imdb', 'primaryTitle',\n",
       "       'originalTitle', 'runtimeMinutes', 'genres', 'release date',\n",
       "       'cover url', 'videos', 'plot outline', 'languages', 'cast names',\n",
       "       'director names', 'writer names', 'producer names',\n",
       "       'cinematographer names', 'distributor names',\n",
       "       'production company names', 'composer names'],\n",
       "      dtype='object')"
      ]
     },
     "execution_count": 14,
     "metadata": {},
     "output_type": "execute_result"
    }
   ],
   "source": [
    "df1.columns"
   ]
  },
  {
   "cell_type": "code",
   "execution_count": 15,
   "id": "d7ec3bc6-aa04-4a03-8393-02b72b11e63a",
   "metadata": {},
   "outputs": [],
   "source": [
    "def remove_duplicates(cell):\n",
    "    if not pd.isna(cell):\n",
    "        unique_values = set(cell.split(','))\n",
    "        return ','.join(sorted(unique_values))\n",
    "    else:\n",
    "        return cell"
   ]
  },
  {
   "cell_type": "code",
   "execution_count": 16,
   "id": "9f47dc4c-f0cf-4ac0-9ca1-e7525702bf1f",
   "metadata": {},
   "outputs": [],
   "source": [
    "df1['distributor names'] = df1['distributor names'].apply(remove_duplicates)\n",
    "df1['production company names'] = df1['production company names'].apply(remove_duplicates)"
   ]
  },
  {
   "cell_type": "code",
   "execution_count": null,
   "id": "b9700ffc-1e30-4faa-afb2-0a46e44940b9",
   "metadata": {},
   "outputs": [],
   "source": []
  },
  {
   "cell_type": "code",
   "execution_count": 17,
   "id": "949e46dc-1ba4-4178-b7ef-3d4442a8a898",
   "metadata": {},
   "outputs": [],
   "source": [
    "def first_thirty_values(input_string):\n",
    "    # Split the input string by commas\n",
    "    values_list = input_string.split(\",\")\n",
    "    \n",
    "    # Select only the first 30 values\n",
    "    first_30_values = values_list[:30]\n",
    "    \n",
    "    # Join these values back into a string, separated by commas\n",
    "    output_string = \",\".join(first_30_values)\n",
    "    \n",
    "    return output_string"
   ]
  },
  {
   "cell_type": "code",
   "execution_count": 18,
   "id": "188ef5ea-031a-41bf-b4f3-2fbdc833c2fb",
   "metadata": {},
   "outputs": [],
   "source": [
    "df1[\"no of cast\"]=-1\n",
    "df1[\"no of writers\"]=-1\n",
    "df1[\"no of directors\"]=-1\n",
    "df1[\"no of composers\"]=-1\n",
    "df1[\"no of producers\"]=-1\n",
    "df1[\"no of cinematographers\"]=-1\n",
    "df1[\"no of production companies\"]=-1\n",
    "df1[\"no of distributors\"]=-1"
   ]
  },
  {
   "cell_type": "code",
   "execution_count": 19,
   "id": "7b907d6d-5100-46ff-80a4-d16b57eedfe2",
   "metadata": {},
   "outputs": [
    {
     "data": {
      "text/plain": [
       "2518"
      ]
     },
     "execution_count": 19,
     "metadata": {},
     "output_type": "execute_result"
    }
   ],
   "source": [
    "df1['producer names'].isna().sum()"
   ]
  },
  {
   "cell_type": "code",
   "execution_count": 20,
   "id": "9d9a56e1-ca0a-4c92-aa36-a7af12639281",
   "metadata": {},
   "outputs": [
    {
     "data": {
      "text/plain": [
       "Index(['titleId', 'imdb score', 'numVotes imdb', 'primaryTitle',\n",
       "       'originalTitle', 'runtimeMinutes', 'genres', 'release date',\n",
       "       'cover url', 'videos', 'plot outline', 'languages', 'cast names',\n",
       "       'director names', 'writer names', 'producer names',\n",
       "       'cinematographer names', 'distributor names',\n",
       "       'production company names', 'composer names', 'no of cast',\n",
       "       'no of writers', 'no of directors', 'no of composers',\n",
       "       'no of producers', 'no of cinematographers',\n",
       "       'no of production companies', 'no of distributors'],\n",
       "      dtype='object')"
      ]
     },
     "execution_count": 20,
     "metadata": {},
     "output_type": "execute_result"
    }
   ],
   "source": [
    "df1.columns"
   ]
  },
  {
   "cell_type": "code",
   "execution_count": 21,
   "id": "92d1f6d9-e9ce-4658-beed-c8940e05b3d9",
   "metadata": {},
   "outputs": [],
   "source": [
    "column_list=['cast names',\n",
    "       'director names', 'writer names', 'producer names',\n",
    "       'cinematographer names', 'distributor names',\n",
    "       'production company names', 'composer names']"
   ]
  },
  {
   "cell_type": "code",
   "execution_count": 22,
   "id": "e33f6658-1d50-407a-8757-f367677dd658",
   "metadata": {},
   "outputs": [],
   "source": [
    "for i in range(0,len(df1)):\n",
    "    if df1.loc[i, \"producer names\"] is not None and not isinstance(df1.loc[i, \"producer names\"], float):\n",
    "        names = df1.loc[i,\"producer names\"].split(',')\n",
    "        length=len(names)\n",
    "        df1.at[i,\"no of producers\"] = length\n",
    "    else: \n",
    "        df1.at[i, 'producer names'] = \"missing\""
   ]
  },
  {
   "cell_type": "code",
   "execution_count": 23,
   "id": "9377953d-94b2-4a17-a51a-508f15bee1ba",
   "metadata": {},
   "outputs": [],
   "source": [
    "#df1.loc[0,'producer names']"
   ]
  },
  {
   "cell_type": "code",
   "execution_count": 24,
   "id": "49f92d17-dcb7-4fbc-913b-a1917dc59573",
   "metadata": {},
   "outputs": [],
   "source": [
    "for i in range(0,len(df1)):\n",
    "    if df1.loc[i, \"director names\"] is not None and not isinstance(df1.loc[i, \"director names\"], float):\n",
    "        names = df1.loc[i,\"director names\"].split(',')\n",
    "        length=len(names)\n",
    "        df1.at[i,\"no of directors\"] = length\n",
    "    else: \n",
    "        df1.at[i, 'director names'] = \"missing\""
   ]
  },
  {
   "cell_type": "code",
   "execution_count": 25,
   "id": "ed3df5c7-07ab-4b5d-b496-3ebd6075bed0",
   "metadata": {},
   "outputs": [],
   "source": [
    "for i in range(0,len(df1)):\n",
    "    if df1.loc[i, \"cast names\"] is not None and not isinstance(df1.loc[i, \"cast names\"], float):\n",
    "        names = df1.loc[i,\"cast names\"].split(',')\n",
    "        length=len(names)\n",
    "        df1.at[i,\"no of cast\"] = length\n",
    "    else: \n",
    "        df1.at[i, 'cast names'] = \"missing\""
   ]
  },
  {
   "cell_type": "code",
   "execution_count": 26,
   "id": "e12d9f04-2cfe-4b30-9d16-6dc74dee63d1",
   "metadata": {},
   "outputs": [],
   "source": [
    "for i in range(0,len(df1)):\n",
    "    if df1.loc[i, \"writer names\"] is not None and not isinstance(df1.loc[i, \"writer names\"], float):\n",
    "        names = df1.loc[i,\"writer names\"].split(',')\n",
    "        length=len(names)\n",
    "        df1.at[i,\"no of writers\"] = length\n",
    "    else: \n",
    "        df1.at[i, 'writer names'] = \"missing\""
   ]
  },
  {
   "cell_type": "code",
   "execution_count": 27,
   "id": "dd57d5d4-2345-4483-a71d-429d613cbfbc",
   "metadata": {},
   "outputs": [],
   "source": [
    "for i in range(0,len(df1)):\n",
    "    if df1.loc[i, \"cinematographer names\"] is not None and not isinstance(df1.loc[i, \"cinematographer names\"], float):\n",
    "        names = df1.loc[i,\"cinematographer names\"].split(',')\n",
    "        length=len(names)\n",
    "        df1.at[i,\"no of cinematographers\"] = length\n",
    "    else: \n",
    "        df1.at[i, 'cinematographer names'] = \"missing\""
   ]
  },
  {
   "cell_type": "code",
   "execution_count": 28,
   "id": "10666b29-be3d-48ae-baa3-2c9ea31cdce1",
   "metadata": {},
   "outputs": [],
   "source": [
    "for i in range(0,len(df1)):\n",
    "    if df1.loc[i, \"composer names\"] is not None and not isinstance(df1.loc[i, \"composer names\"], float):\n",
    "        names = df1.loc[i,\"composer names\"].split(',')\n",
    "        length=len(names)\n",
    "        df1.at[i,\"no of composers\"] = length\n",
    "    else: \n",
    "        df1.at[i, 'composer names'] = \"missing\""
   ]
  },
  {
   "cell_type": "code",
   "execution_count": 29,
   "id": "4292b62e-9a34-41b4-9961-313619d9cd99",
   "metadata": {},
   "outputs": [],
   "source": [
    "for i in range(0,len(df1)):\n",
    "    if df1.loc[i, \"distributor names\"] is not None and not isinstance(df1.loc[i, \"distributor names\"], float):\n",
    "        names = df1.loc[i,\"distributor names\"].split(',')\n",
    "        length=len(names)\n",
    "        df1.at[i,\"no of distributors\"] = length\n",
    "    else: \n",
    "        df1.at[i, 'distributor names'] = \"missing\""
   ]
  },
  {
   "cell_type": "code",
   "execution_count": 30,
   "id": "0ccdeda7-4c9f-4322-bea1-24bf241321e1",
   "metadata": {},
   "outputs": [],
   "source": [
    "for i in range(0,len(df1)):\n",
    "    if df1.loc[i, \"production company names\"] is not None and not isinstance(df1.loc[i, \"production company names\"], float):\n",
    "        names = df1.loc[i,\"production company names\"].split(',')\n",
    "        length=len(names)\n",
    "        df1.at[i,\"no of production companies\"] = length\n",
    "    else: \n",
    "        df1.at[i, 'production company names'] = \"missing\""
   ]
  },
  {
   "cell_type": "code",
   "execution_count": 31,
   "id": "af5ee0ef-ab54-4399-9ba7-c27a92de0c5e",
   "metadata": {},
   "outputs": [],
   "source": [
    "#df1.columns"
   ]
  },
  {
   "cell_type": "code",
   "execution_count": 32,
   "id": "c2ecf1ec-e3ac-48c4-bf77-0492c1d63fb7",
   "metadata": {},
   "outputs": [],
   "source": [
    "#df1.head()"
   ]
  },
  {
   "cell_type": "code",
   "execution_count": 33,
   "id": "ed7f4c74-93d8-49bd-8a30-22f5899add4f",
   "metadata": {},
   "outputs": [],
   "source": [
    "#df1.loc[0,'production company names']"
   ]
  },
  {
   "cell_type": "code",
   "execution_count": 34,
   "id": "e0f8ca3c-ff9e-4583-b421-6467e5b577c0",
   "metadata": {},
   "outputs": [],
   "source": [
    "#df1.loc[0,'distributor names']"
   ]
  },
  {
   "cell_type": "code",
   "execution_count": 35,
   "id": "1ed5db16-674e-4480-ad9a-7951e6b05ab6",
   "metadata": {},
   "outputs": [],
   "source": [
    "df1['top 30 cast'] = df1['cast names'].apply(lambda x: first_thirty_values(x))"
   ]
  },
  {
   "cell_type": "code",
   "execution_count": 36,
   "id": "894ed0de-feab-4d93-ae39-2e8fb0513711",
   "metadata": {},
   "outputs": [],
   "source": [
    "#df1.loc[0,'top 30 cast']"
   ]
  },
  {
   "cell_type": "code",
   "execution_count": null,
   "id": "c6c33f3a-a704-45ab-a916-b274eee63637",
   "metadata": {},
   "outputs": [],
   "source": []
  },
  {
   "cell_type": "code",
   "execution_count": 74,
   "id": "a87904c9-2a30-4d8d-8a0b-ca951caa6e4e",
   "metadata": {},
   "outputs": [
    {
     "name": "stdout",
     "output_type": "stream",
     "text": [
      "titleId\n",
      "0\n",
      "imdb score\n",
      "0\n",
      "numVotes imdb\n",
      "0\n",
      "primaryTitle\n",
      "0\n",
      "originalTitle\n",
      "0\n",
      "runtimeMinutes\n",
      "0\n",
      "genres\n",
      "85\n",
      "release date\n",
      "11528\n",
      "cover url\n",
      "122\n",
      "videos\n",
      "34374\n",
      "plot outline\n",
      "27845\n",
      "languages\n",
      "1083\n",
      "no of cast\n",
      "0\n",
      "no of writers\n",
      "0\n",
      "no of directors\n",
      "0\n",
      "no of composers\n",
      "0\n",
      "no of producers\n",
      "0\n",
      "no of cinematographers\n",
      "0\n",
      "no of production companies\n",
      "0\n",
      "no of distributors\n",
      "0\n",
      "cast\n",
      "0\n",
      "director\n",
      "0\n",
      "cinematographer\n",
      "0\n",
      "writer\n",
      "0\n",
      "composer\n",
      "0\n",
      "producer\n",
      "0\n",
      "production company\n",
      "0\n",
      "distributor\n",
      "0\n"
     ]
    }
   ],
   "source": [
    "for x in df1.columns:\n",
    "    print(x)\n",
    "    print(df1[x].isna().sum())"
   ]
  },
  {
   "cell_type": "code",
   "execution_count": 44,
   "id": "045f4066-11e8-46e2-9626-bc0d8525762d",
   "metadata": {},
   "outputs": [
    {
     "data": {
      "text/plain": [
       "101.9165329269444"
      ]
     },
     "execution_count": 44,
     "metadata": {},
     "output_type": "execute_result"
    }
   ],
   "source": [
    "df1['runtimeMinutes'].mean()"
   ]
  },
  {
   "cell_type": "code",
   "execution_count": 40,
   "id": "90472e8b-95cf-4a94-92e6-2f129392b03f",
   "metadata": {},
   "outputs": [
    {
     "data": {
      "text/plain": [
       "numpy.float64"
      ]
     },
     "execution_count": 40,
     "metadata": {},
     "output_type": "execute_result"
    }
   ],
   "source": [
    "type(df1.loc[0,'runtimeMinutes'])"
   ]
  },
  {
   "cell_type": "code",
   "execution_count": 41,
   "id": "bbdd8160-9f86-4b06-bddd-3527f80893a4",
   "metadata": {},
   "outputs": [],
   "source": [
    "for i in range(0,len(df1)):\n",
    "    if pd.isna(df1.loc[i, \"runtimeMinutes\"]):\n",
    "        df1.at[i,\"runtimeMinutes\"]=df1['runtimeMinutes'].mean()"
   ]
  },
  {
   "cell_type": "code",
   "execution_count": 42,
   "id": "9220d467-eda4-408d-a4c0-7d789e5c84a6",
   "metadata": {},
   "outputs": [
    {
     "data": {
      "text/plain": [
       "0"
      ]
     },
     "execution_count": 42,
     "metadata": {},
     "output_type": "execute_result"
    }
   ],
   "source": [
    "df1['runtimeMinutes'].isna().sum()"
   ]
  },
  {
   "cell_type": "code",
   "execution_count": null,
   "id": "63cc4a9f-d7ef-451c-9b36-c20bd5669ad2",
   "metadata": {},
   "outputs": [],
   "source": []
  },
  {
   "cell_type": "code",
   "execution_count": 48,
   "id": "a555fb33-20d7-4885-b435-77413f433ec5",
   "metadata": {},
   "outputs": [],
   "source": [
    "for i in range(0,len(df1)):\n",
    "    df1.at[i,\"cast\"]=f\"cast: {df1.loc[i,'top 30 cast']}\""
   ]
  },
  {
   "cell_type": "code",
   "execution_count": 51,
   "id": "5daf882a-e14a-4938-b53d-68d3076bebed",
   "metadata": {},
   "outputs": [
    {
     "data": {
      "text/plain": [
       "'cast: Leonardo DiCaprio,Joseph Gordon-Levitt,Elliot Page,Tom Hardy,Ken Watanabe,Dileep Rao,Cillian Murphy,Tom Berenger,Marion Cotillard,Pete Postlethwaite,Michael Caine,Lukas Haas,Tai-Li Lee,Claire Geare,Magnus Nolan,Taylor Geare,Johnathan Geare,Tohoru Masamune,Yuji Okumoto,Earl Cameron,Ryan Hayward,Miranda Nolan,Russ Fega,Tim Kelleher,Talulah Riley,Nicolas Clerc,Coralie Dedykere,Silvie Laguna,Virgile Bramly,Jean-Michel Dagory'"
      ]
     },
     "execution_count": 51,
     "metadata": {},
     "output_type": "execute_result"
    }
   ],
   "source": [
    "#df1.loc[1,'top 30 cast members']"
   ]
  },
  {
   "cell_type": "code",
   "execution_count": 52,
   "id": "1a61274f-a341-47c8-9939-a000b4ad9b36",
   "metadata": {},
   "outputs": [
    {
     "data": {
      "text/plain": [
       "Index(['titleId', 'imdb score', 'numVotes imdb', 'primaryTitle',\n",
       "       'originalTitle', 'runtimeMinutes', 'genres', 'release date',\n",
       "       'cover url', 'videos', 'plot outline', 'languages', 'cast names',\n",
       "       'director names', 'writer names', 'producer names',\n",
       "       'cinematographer names', 'distributor names',\n",
       "       'production company names', 'composer names', 'no of cast',\n",
       "       'no of writers', 'no of directors', 'no of composers',\n",
       "       'no of producers', 'no of cinematographers',\n",
       "       'no of production companies', 'no of distributors', 'top 30 cast',\n",
       "       'top 30 cast members'],\n",
       "      dtype='object')"
      ]
     },
     "execution_count": 52,
     "metadata": {},
     "output_type": "execute_result"
    }
   ],
   "source": [
    "df1.columns"
   ]
  },
  {
   "cell_type": "code",
   "execution_count": 53,
   "id": "75b8e314-d01d-4a90-9da6-b9d13a5a223a",
   "metadata": {},
   "outputs": [],
   "source": [
    "df1.rename(columns={\"cast names\":\"full cast\"}, inplace=True)"
   ]
  },
  {
   "cell_type": "code",
   "execution_count": 58,
   "id": "c1703243-8536-4b2a-919a-43cfa8d7bf68",
   "metadata": {},
   "outputs": [
    {
     "data": {
      "text/plain": [
       "Index(['titleId', 'imdb score', 'numVotes imdb', 'primaryTitle',\n",
       "       'originalTitle', 'runtimeMinutes', 'genres', 'release date',\n",
       "       'cover url', 'videos', 'plot outline', 'languages', 'full cast',\n",
       "       'director names', 'writer names', 'producer names',\n",
       "       'cinematographer names', 'distributor names',\n",
       "       'production company names', 'composer names', 'no of cast',\n",
       "       'no of writers', 'no of directors', 'no of composers',\n",
       "       'no of producers', 'no of cinematographers',\n",
       "       'no of production companies', 'no of distributors', 'top 30 cast',\n",
       "       'cast'],\n",
       "      dtype='object')"
      ]
     },
     "execution_count": 58,
     "metadata": {},
     "output_type": "execute_result"
    }
   ],
   "source": [
    "df1.columns"
   ]
  },
  {
   "cell_type": "code",
   "execution_count": 57,
   "id": "24938abe-2d7e-4dec-b1f2-d8760051e55e",
   "metadata": {},
   "outputs": [],
   "source": [
    "#df1.rename(columns={\"top cast\":\"cast\"},inplace=True)"
   ]
  },
  {
   "cell_type": "code",
   "execution_count": 59,
   "id": "b641e5ff-471e-4654-9c9e-3ba26d06937e",
   "metadata": {},
   "outputs": [],
   "source": [
    "for i in range(0,len(df1)):\n",
    "    df1.at[i,\"director\"]=f\"directors: {df1.loc[i,'director names']}\""
   ]
  },
  {
   "cell_type": "code",
   "execution_count": 60,
   "id": "e751f8c4-da3c-473d-9430-397038514cac",
   "metadata": {},
   "outputs": [],
   "source": [
    "for i in range(0,len(df1)):\n",
    "    df1.at[i,\"cinematographer\"]=f\"cinematographers: {df1.loc[i,'cinematographer names']}\""
   ]
  },
  {
   "cell_type": "code",
   "execution_count": 61,
   "id": "f742ae56-d8b9-4250-a43c-e34377bfe92e",
   "metadata": {},
   "outputs": [],
   "source": [
    "for i in range(0,len(df1)):\n",
    "    df1.at[i,\"writer\"]=f\"writers: {df1.loc[i,'writer names']}\""
   ]
  },
  {
   "cell_type": "code",
   "execution_count": 62,
   "id": "0d5606bd-2600-448a-8e4d-895292171836",
   "metadata": {},
   "outputs": [],
   "source": [
    "for i in range(0,len(df1)):\n",
    "    df1.at[i,\"composer\"]=f\"composers: {df1.loc[i,'composer names']}\""
   ]
  },
  {
   "cell_type": "code",
   "execution_count": 63,
   "id": "52c8d899-a07c-4285-bf81-c431b9a47900",
   "metadata": {},
   "outputs": [],
   "source": [
    "for i in range(0,len(df1)):\n",
    "    df1.at[i,\"producer\"]=f\"producers: {df1.loc[i,'producer names']}\""
   ]
  },
  {
   "cell_type": "code",
   "execution_count": 64,
   "id": "14607873-44b1-4ac5-b997-0ccfeae38dca",
   "metadata": {},
   "outputs": [],
   "source": [
    "for i in range(0,len(df1)):\n",
    "    df1.at[i,\"production company\"]=f\"production companies: {df1.loc[i,'production company names']}\""
   ]
  },
  {
   "cell_type": "code",
   "execution_count": 65,
   "id": "25d0c925-43f4-440c-819b-3cd49c1cc38a",
   "metadata": {},
   "outputs": [],
   "source": [
    "for i in range(0,len(df1)):\n",
    "    df1.at[i,\"distributor\"]=f\"distributors: {df1.loc[i,'distributor names']}\""
   ]
  },
  {
   "cell_type": "code",
   "execution_count": 66,
   "id": "3828094c-d5dd-4db2-9ea3-8f773d40976a",
   "metadata": {},
   "outputs": [
    {
     "data": {
      "text/html": [
       "<div>\n",
       "<style scoped>\n",
       "    .dataframe tbody tr th:only-of-type {\n",
       "        vertical-align: middle;\n",
       "    }\n",
       "\n",
       "    .dataframe tbody tr th {\n",
       "        vertical-align: top;\n",
       "    }\n",
       "\n",
       "    .dataframe thead th {\n",
       "        text-align: right;\n",
       "    }\n",
       "</style>\n",
       "<table border=\"1\" class=\"dataframe\">\n",
       "  <thead>\n",
       "    <tr style=\"text-align: right;\">\n",
       "      <th></th>\n",
       "      <th>titleId</th>\n",
       "      <th>imdb score</th>\n",
       "      <th>numVotes imdb</th>\n",
       "      <th>primaryTitle</th>\n",
       "      <th>originalTitle</th>\n",
       "      <th>runtimeMinutes</th>\n",
       "      <th>genres</th>\n",
       "      <th>release date</th>\n",
       "      <th>cover url</th>\n",
       "      <th>videos</th>\n",
       "      <th>...</th>\n",
       "      <th>no of distributors</th>\n",
       "      <th>top 30 cast</th>\n",
       "      <th>cast</th>\n",
       "      <th>director</th>\n",
       "      <th>cinematographer</th>\n",
       "      <th>writer</th>\n",
       "      <th>composer</th>\n",
       "      <th>producer</th>\n",
       "      <th>production company</th>\n",
       "      <th>distributor</th>\n",
       "    </tr>\n",
       "  </thead>\n",
       "  <tbody>\n",
       "    <tr>\n",
       "      <th>0</th>\n",
       "      <td>tt0468569</td>\n",
       "      <td>9.0</td>\n",
       "      <td>2834864</td>\n",
       "      <td>The Dark Knight</td>\n",
       "      <td>The Dark Knight</td>\n",
       "      <td>152.0</td>\n",
       "      <td>Action,Crime,Drama</td>\n",
       "      <td>18 Jul 2008 (USA)</td>\n",
       "      <td>https://m.media-amazon.com/images/M/MV5BMTMxNT...</td>\n",
       "      <td>['http://www.imdb.com/title/tt0468569/videopla...</td>\n",
       "      <td>...</td>\n",
       "      <td>45</td>\n",
       "      <td>Christian Bale,Heath Ledger,Aaron Eckhart,Mich...</td>\n",
       "      <td>cast: Christian Bale,Heath Ledger,Aaron Eckhar...</td>\n",
       "      <td>directors: Christopher Nolan</td>\n",
       "      <td>cinematographers: Wally Pfister</td>\n",
       "      <td>writers: Jonathan Nolan,Christopher Nolan,None...</td>\n",
       "      <td>composers: James Newton Howard,Hans Zimmer</td>\n",
       "      <td>producers: Kevin de la Noy,Jordan Goldberg,Phi...</td>\n",
       "      <td>production companies: DC Comics,Legendary Ente...</td>\n",
       "      <td>distributors: 9Go!,Alexandra Films,Amazon Prim...</td>\n",
       "    </tr>\n",
       "    <tr>\n",
       "      <th>1</th>\n",
       "      <td>tt1375666</td>\n",
       "      <td>8.8</td>\n",
       "      <td>2517022</td>\n",
       "      <td>Inception</td>\n",
       "      <td>Inception</td>\n",
       "      <td>148.0</td>\n",
       "      <td>Action,Adventure,Sci-Fi</td>\n",
       "      <td>16 Jul 2010 (USA)</td>\n",
       "      <td>https://m.media-amazon.com/images/M/MV5BMjAxMz...</td>\n",
       "      <td>['http://www.imdb.com/title/tt1375666/videopla...</td>\n",
       "      <td>...</td>\n",
       "      <td>32</td>\n",
       "      <td>Leonardo DiCaprio,Joseph Gordon-Levitt,Elliot ...</td>\n",
       "      <td>cast: Leonardo DiCaprio,Joseph Gordon-Levitt,E...</td>\n",
       "      <td>directors: Christopher Nolan</td>\n",
       "      <td>cinematographers: Wally Pfister</td>\n",
       "      <td>writers: Christopher Nolan</td>\n",
       "      <td>composers: Hans Zimmer</td>\n",
       "      <td>producers: Zakaria Alaoui,John Bernard,Chris B...</td>\n",
       "      <td>production companies: Legendary Entertainment,...</td>\n",
       "      <td>distributors: 9Go!,Alexandra Films,Amazon Prim...</td>\n",
       "    </tr>\n",
       "    <tr>\n",
       "      <th>2</th>\n",
       "      <td>tt0816692</td>\n",
       "      <td>8.7</td>\n",
       "      <td>2052953</td>\n",
       "      <td>Interstellar</td>\n",
       "      <td>Interstellar</td>\n",
       "      <td>169.0</td>\n",
       "      <td>Adventure,Drama,Sci-Fi</td>\n",
       "      <td>07 Nov 2014 (USA)</td>\n",
       "      <td>https://m.media-amazon.com/images/M/MV5BZjdkOT...</td>\n",
       "      <td>['http://www.imdb.com/title/tt0816692/videopla...</td>\n",
       "      <td>...</td>\n",
       "      <td>28</td>\n",
       "      <td>Ellen Burstyn,Matthew McConaughey,Mackenzie Fo...</td>\n",
       "      <td>cast: Ellen Burstyn,Matthew McConaughey,Macken...</td>\n",
       "      <td>directors: Christopher Nolan</td>\n",
       "      <td>cinematographers: Hoyte Van Hoytema</td>\n",
       "      <td>writers: Jonathan Nolan,Christopher Nolan</td>\n",
       "      <td>composers: Hans Zimmer</td>\n",
       "      <td>producers: Kaari Autry,Jenny Basen,Jill Christ...</td>\n",
       "      <td>production companies:  Alberta Media Fund,Atvi...</td>\n",
       "      <td>distributors: 9Go!,Alexandra Films,Cocinsa,Fil...</td>\n",
       "    </tr>\n",
       "    <tr>\n",
       "      <th>3</th>\n",
       "      <td>tt0120737</td>\n",
       "      <td>8.9</td>\n",
       "      <td>1982370</td>\n",
       "      <td>The Lord of the Rings: The Fellowship of the Ring</td>\n",
       "      <td>The Lord of the Rings: The Fellowship of the Ring</td>\n",
       "      <td>178.0</td>\n",
       "      <td>Action,Adventure,Drama</td>\n",
       "      <td>19 Dec 2001 (USA)</td>\n",
       "      <td>https://m.media-amazon.com/images/M/MV5BN2EyZj...</td>\n",
       "      <td>['http://www.imdb.com/title/tt0120737/videopla...</td>\n",
       "      <td>...</td>\n",
       "      <td>52</td>\n",
       "      <td>Alan Howard,Noel Appleby,Sean Astin,Sala Baker...</td>\n",
       "      <td>cast: Alan Howard,Noel Appleby,Sean Astin,Sala...</td>\n",
       "      <td>directors: Peter Jackson</td>\n",
       "      <td>cinematographers: Andrew Lesnie</td>\n",
       "      <td>writers: J.R.R. Tolkien,None,Fran Walsh,Philip...</td>\n",
       "      <td>composers: Howard Shore</td>\n",
       "      <td>producers: Peter Jackson,Michael Lynne,Mark Or...</td>\n",
       "      <td>production companies: Marzano Films,New Line C...</td>\n",
       "      <td>distributors: 7flix,9Go!,A-Film Distribution,A...</td>\n",
       "    </tr>\n",
       "    <tr>\n",
       "      <th>4</th>\n",
       "      <td>tt0167260</td>\n",
       "      <td>9.0</td>\n",
       "      <td>1954914</td>\n",
       "      <td>The Lord of the Rings: The Return of the King</td>\n",
       "      <td>The Lord of the Rings: The Return of the King</td>\n",
       "      <td>201.0</td>\n",
       "      <td>Action,Adventure,Drama</td>\n",
       "      <td>17 Dec 2003 (USA)</td>\n",
       "      <td>https://m.media-amazon.com/images/M/MV5BNzA5ZD...</td>\n",
       "      <td>['http://www.imdb.com/title/tt0167260/videopla...</td>\n",
       "      <td>...</td>\n",
       "      <td>50</td>\n",
       "      <td>Noel Appleby,Ali Astin,Sean Astin,David Aston,...</td>\n",
       "      <td>cast: Noel Appleby,Ali Astin,Sean Astin,David ...</td>\n",
       "      <td>directors: Peter Jackson</td>\n",
       "      <td>cinematographers: Andrew Lesnie</td>\n",
       "      <td>writers: J.R.R. Tolkien,None,Fran Walsh,Philip...</td>\n",
       "      <td>composers: Howard Shore</td>\n",
       "      <td>producers: Peter Jackson,Michael Lynne,Eric Mo...</td>\n",
       "      <td>production companies: New Line Cinema,The Saul...</td>\n",
       "      <td>distributors: 7flix,A-Film Distribution,A-Film...</td>\n",
       "    </tr>\n",
       "  </tbody>\n",
       "</table>\n",
       "<p>5 rows × 37 columns</p>\n",
       "</div>"
      ],
      "text/plain": [
       "     titleId  imdb score  numVotes imdb  \\\n",
       "0  tt0468569         9.0        2834864   \n",
       "1  tt1375666         8.8        2517022   \n",
       "2  tt0816692         8.7        2052953   \n",
       "3  tt0120737         8.9        1982370   \n",
       "4  tt0167260         9.0        1954914   \n",
       "\n",
       "                                        primaryTitle  \\\n",
       "0                                    The Dark Knight   \n",
       "1                                          Inception   \n",
       "2                                       Interstellar   \n",
       "3  The Lord of the Rings: The Fellowship of the Ring   \n",
       "4      The Lord of the Rings: The Return of the King   \n",
       "\n",
       "                                       originalTitle  runtimeMinutes  \\\n",
       "0                                    The Dark Knight           152.0   \n",
       "1                                          Inception           148.0   \n",
       "2                                       Interstellar           169.0   \n",
       "3  The Lord of the Rings: The Fellowship of the Ring           178.0   \n",
       "4      The Lord of the Rings: The Return of the King           201.0   \n",
       "\n",
       "                    genres       release date  \\\n",
       "0       Action,Crime,Drama  18 Jul 2008 (USA)   \n",
       "1  Action,Adventure,Sci-Fi  16 Jul 2010 (USA)   \n",
       "2   Adventure,Drama,Sci-Fi  07 Nov 2014 (USA)   \n",
       "3   Action,Adventure,Drama  19 Dec 2001 (USA)   \n",
       "4   Action,Adventure,Drama  17 Dec 2003 (USA)   \n",
       "\n",
       "                                           cover url  \\\n",
       "0  https://m.media-amazon.com/images/M/MV5BMTMxNT...   \n",
       "1  https://m.media-amazon.com/images/M/MV5BMjAxMz...   \n",
       "2  https://m.media-amazon.com/images/M/MV5BZjdkOT...   \n",
       "3  https://m.media-amazon.com/images/M/MV5BN2EyZj...   \n",
       "4  https://m.media-amazon.com/images/M/MV5BNzA5ZD...   \n",
       "\n",
       "                                              videos  ... no of distributors  \\\n",
       "0  ['http://www.imdb.com/title/tt0468569/videopla...  ...                 45   \n",
       "1  ['http://www.imdb.com/title/tt1375666/videopla...  ...                 32   \n",
       "2  ['http://www.imdb.com/title/tt0816692/videopla...  ...                 28   \n",
       "3  ['http://www.imdb.com/title/tt0120737/videopla...  ...                 52   \n",
       "4  ['http://www.imdb.com/title/tt0167260/videopla...  ...                 50   \n",
       "\n",
       "                                         top 30 cast  \\\n",
       "0  Christian Bale,Heath Ledger,Aaron Eckhart,Mich...   \n",
       "1  Leonardo DiCaprio,Joseph Gordon-Levitt,Elliot ...   \n",
       "2  Ellen Burstyn,Matthew McConaughey,Mackenzie Fo...   \n",
       "3  Alan Howard,Noel Appleby,Sean Astin,Sala Baker...   \n",
       "4  Noel Appleby,Ali Astin,Sean Astin,David Aston,...   \n",
       "\n",
       "                                                cast  \\\n",
       "0  cast: Christian Bale,Heath Ledger,Aaron Eckhar...   \n",
       "1  cast: Leonardo DiCaprio,Joseph Gordon-Levitt,E...   \n",
       "2  cast: Ellen Burstyn,Matthew McConaughey,Macken...   \n",
       "3  cast: Alan Howard,Noel Appleby,Sean Astin,Sala...   \n",
       "4  cast: Noel Appleby,Ali Astin,Sean Astin,David ...   \n",
       "\n",
       "                       director                      cinematographer  \\\n",
       "0  directors: Christopher Nolan      cinematographers: Wally Pfister   \n",
       "1  directors: Christopher Nolan      cinematographers: Wally Pfister   \n",
       "2  directors: Christopher Nolan  cinematographers: Hoyte Van Hoytema   \n",
       "3      directors: Peter Jackson      cinematographers: Andrew Lesnie   \n",
       "4      directors: Peter Jackson      cinematographers: Andrew Lesnie   \n",
       "\n",
       "                                              writer  \\\n",
       "0  writers: Jonathan Nolan,Christopher Nolan,None...   \n",
       "1                         writers: Christopher Nolan   \n",
       "2          writers: Jonathan Nolan,Christopher Nolan   \n",
       "3  writers: J.R.R. Tolkien,None,Fran Walsh,Philip...   \n",
       "4  writers: J.R.R. Tolkien,None,Fran Walsh,Philip...   \n",
       "\n",
       "                                     composer  \\\n",
       "0  composers: James Newton Howard,Hans Zimmer   \n",
       "1                      composers: Hans Zimmer   \n",
       "2                      composers: Hans Zimmer   \n",
       "3                     composers: Howard Shore   \n",
       "4                     composers: Howard Shore   \n",
       "\n",
       "                                            producer  \\\n",
       "0  producers: Kevin de la Noy,Jordan Goldberg,Phi...   \n",
       "1  producers: Zakaria Alaoui,John Bernard,Chris B...   \n",
       "2  producers: Kaari Autry,Jenny Basen,Jill Christ...   \n",
       "3  producers: Peter Jackson,Michael Lynne,Mark Or...   \n",
       "4  producers: Peter Jackson,Michael Lynne,Eric Mo...   \n",
       "\n",
       "                                  production company  \\\n",
       "0  production companies: DC Comics,Legendary Ente...   \n",
       "1  production companies: Legendary Entertainment,...   \n",
       "2  production companies:  Alberta Media Fund,Atvi...   \n",
       "3  production companies: Marzano Films,New Line C...   \n",
       "4  production companies: New Line Cinema,The Saul...   \n",
       "\n",
       "                                         distributor  \n",
       "0  distributors: 9Go!,Alexandra Films,Amazon Prim...  \n",
       "1  distributors: 9Go!,Alexandra Films,Amazon Prim...  \n",
       "2  distributors: 9Go!,Alexandra Films,Cocinsa,Fil...  \n",
       "3  distributors: 7flix,9Go!,A-Film Distribution,A...  \n",
       "4  distributors: 7flix,A-Film Distribution,A-Film...  \n",
       "\n",
       "[5 rows x 37 columns]"
      ]
     },
     "execution_count": 66,
     "metadata": {},
     "output_type": "execute_result"
    }
   ],
   "source": [
    "df1.head()"
   ]
  },
  {
   "cell_type": "code",
   "execution_count": 67,
   "id": "729409d3-fe62-4001-a581-fe222c095c96",
   "metadata": {},
   "outputs": [
    {
     "data": {
      "text/plain": [
       "Index(['titleId', 'imdb score', 'numVotes imdb', 'primaryTitle',\n",
       "       'originalTitle', 'runtimeMinutes', 'genres', 'release date',\n",
       "       'cover url', 'videos', 'plot outline', 'languages', 'full cast',\n",
       "       'director names', 'writer names', 'producer names',\n",
       "       'cinematographer names', 'distributor names',\n",
       "       'production company names', 'composer names', 'no of cast',\n",
       "       'no of writers', 'no of directors', 'no of composers',\n",
       "       'no of producers', 'no of cinematographers',\n",
       "       'no of production companies', 'no of distributors', 'top 30 cast',\n",
       "       'cast', 'director', 'cinematographer', 'writer', 'composer', 'producer',\n",
       "       'production company', 'distributor'],\n",
       "      dtype='object')"
      ]
     },
     "execution_count": 67,
     "metadata": {},
     "output_type": "execute_result"
    }
   ],
   "source": [
    "df1.columns"
   ]
  },
  {
   "cell_type": "code",
   "execution_count": 68,
   "id": "cc94c5a1-2310-4cf4-8ec5-10880ca1a8c9",
   "metadata": {},
   "outputs": [],
   "source": [
    "df1.drop(columns=['full cast',\n",
    "       'director names', 'writer names', 'producer names',\n",
    "       'cinematographer names', 'distributor names',\n",
    "       'production company names', 'composer names','top 30 cast'],inplace=True)"
   ]
  },
  {
   "cell_type": "code",
   "execution_count": 69,
   "id": "a4d1d19a-a82a-4850-aee5-ded7ee258d0f",
   "metadata": {},
   "outputs": [
    {
     "data": {
      "text/plain": [
       "Index(['titleId', 'imdb score', 'numVotes imdb', 'primaryTitle',\n",
       "       'originalTitle', 'runtimeMinutes', 'genres', 'release date',\n",
       "       'cover url', 'videos', 'plot outline', 'languages', 'no of cast',\n",
       "       'no of writers', 'no of directors', 'no of composers',\n",
       "       'no of producers', 'no of cinematographers',\n",
       "       'no of production companies', 'no of distributors', 'cast', 'director',\n",
       "       'cinematographer', 'writer', 'composer', 'producer',\n",
       "       'production company', 'distributor'],\n",
       "      dtype='object')"
      ]
     },
     "execution_count": 69,
     "metadata": {},
     "output_type": "execute_result"
    }
   ],
   "source": [
    "df1.columns"
   ]
  },
  {
   "cell_type": "code",
   "execution_count": 71,
   "id": "83fb57d2-185d-478b-8247-fa131fe712f5",
   "metadata": {},
   "outputs": [
    {
     "data": {
      "text/html": [
       "<div>\n",
       "<style scoped>\n",
       "    .dataframe tbody tr th:only-of-type {\n",
       "        vertical-align: middle;\n",
       "    }\n",
       "\n",
       "    .dataframe tbody tr th {\n",
       "        vertical-align: top;\n",
       "    }\n",
       "\n",
       "    .dataframe thead th {\n",
       "        text-align: right;\n",
       "    }\n",
       "</style>\n",
       "<table border=\"1\" class=\"dataframe\">\n",
       "  <thead>\n",
       "    <tr style=\"text-align: right;\">\n",
       "      <th></th>\n",
       "      <th>titleId</th>\n",
       "      <th>imdb score</th>\n",
       "      <th>numVotes imdb</th>\n",
       "      <th>primaryTitle</th>\n",
       "      <th>originalTitle</th>\n",
       "      <th>runtimeMinutes</th>\n",
       "      <th>genres</th>\n",
       "      <th>release date</th>\n",
       "      <th>cover url</th>\n",
       "      <th>videos</th>\n",
       "      <th>...</th>\n",
       "      <th>no of production companies</th>\n",
       "      <th>no of distributors</th>\n",
       "      <th>cast</th>\n",
       "      <th>director</th>\n",
       "      <th>cinematographer</th>\n",
       "      <th>writer</th>\n",
       "      <th>composer</th>\n",
       "      <th>producer</th>\n",
       "      <th>production company</th>\n",
       "      <th>distributor</th>\n",
       "    </tr>\n",
       "  </thead>\n",
       "  <tbody>\n",
       "    <tr>\n",
       "      <th>0</th>\n",
       "      <td>tt0468569</td>\n",
       "      <td>9.0</td>\n",
       "      <td>2834864</td>\n",
       "      <td>The Dark Knight</td>\n",
       "      <td>The Dark Knight</td>\n",
       "      <td>152.0</td>\n",
       "      <td>Action,Crime,Drama</td>\n",
       "      <td>18 Jul 2008 (USA)</td>\n",
       "      <td>https://m.media-amazon.com/images/M/MV5BMTMxNT...</td>\n",
       "      <td>['http://www.imdb.com/title/tt0468569/videopla...</td>\n",
       "      <td>...</td>\n",
       "      <td>4</td>\n",
       "      <td>45</td>\n",
       "      <td>cast: Christian Bale,Heath Ledger,Aaron Eckhar...</td>\n",
       "      <td>directors: Christopher Nolan</td>\n",
       "      <td>cinematographers: Wally Pfister</td>\n",
       "      <td>writers: Jonathan Nolan,Christopher Nolan,None...</td>\n",
       "      <td>composers: James Newton Howard,Hans Zimmer</td>\n",
       "      <td>producers: Kevin de la Noy,Jordan Goldberg,Phi...</td>\n",
       "      <td>production companies: DC Comics,Legendary Ente...</td>\n",
       "      <td>distributors: 9Go!,Alexandra Films,Amazon Prim...</td>\n",
       "    </tr>\n",
       "    <tr>\n",
       "      <th>1</th>\n",
       "      <td>tt1375666</td>\n",
       "      <td>8.8</td>\n",
       "      <td>2517022</td>\n",
       "      <td>Inception</td>\n",
       "      <td>Inception</td>\n",
       "      <td>148.0</td>\n",
       "      <td>Action,Adventure,Sci-Fi</td>\n",
       "      <td>16 Jul 2010 (USA)</td>\n",
       "      <td>https://m.media-amazon.com/images/M/MV5BMjAxMz...</td>\n",
       "      <td>['http://www.imdb.com/title/tt1375666/videopla...</td>\n",
       "      <td>...</td>\n",
       "      <td>3</td>\n",
       "      <td>32</td>\n",
       "      <td>cast: Leonardo DiCaprio,Joseph Gordon-Levitt,E...</td>\n",
       "      <td>directors: Christopher Nolan</td>\n",
       "      <td>cinematographers: Wally Pfister</td>\n",
       "      <td>writers: Christopher Nolan</td>\n",
       "      <td>composers: Hans Zimmer</td>\n",
       "      <td>producers: Zakaria Alaoui,John Bernard,Chris B...</td>\n",
       "      <td>production companies: Legendary Entertainment,...</td>\n",
       "      <td>distributors: 9Go!,Alexandra Films,Amazon Prim...</td>\n",
       "    </tr>\n",
       "    <tr>\n",
       "      <th>2</th>\n",
       "      <td>tt0816692</td>\n",
       "      <td>8.7</td>\n",
       "      <td>2052953</td>\n",
       "      <td>Interstellar</td>\n",
       "      <td>Interstellar</td>\n",
       "      <td>169.0</td>\n",
       "      <td>Adventure,Drama,Sci-Fi</td>\n",
       "      <td>07 Nov 2014 (USA)</td>\n",
       "      <td>https://m.media-amazon.com/images/M/MV5BZjdkOT...</td>\n",
       "      <td>['http://www.imdb.com/title/tt0816692/videopla...</td>\n",
       "      <td>...</td>\n",
       "      <td>8</td>\n",
       "      <td>28</td>\n",
       "      <td>cast: Ellen Burstyn,Matthew McConaughey,Macken...</td>\n",
       "      <td>directors: Christopher Nolan</td>\n",
       "      <td>cinematographers: Hoyte Van Hoytema</td>\n",
       "      <td>writers: Jonathan Nolan,Christopher Nolan</td>\n",
       "      <td>composers: Hans Zimmer</td>\n",
       "      <td>producers: Kaari Autry,Jenny Basen,Jill Christ...</td>\n",
       "      <td>production companies:  Alberta Media Fund,Atvi...</td>\n",
       "      <td>distributors: 9Go!,Alexandra Films,Cocinsa,Fil...</td>\n",
       "    </tr>\n",
       "    <tr>\n",
       "      <th>3</th>\n",
       "      <td>tt0120737</td>\n",
       "      <td>8.9</td>\n",
       "      <td>1982370</td>\n",
       "      <td>The Lord of the Rings: The Fellowship of the Ring</td>\n",
       "      <td>The Lord of the Rings: The Fellowship of the Ring</td>\n",
       "      <td>178.0</td>\n",
       "      <td>Action,Adventure,Drama</td>\n",
       "      <td>19 Dec 2001 (USA)</td>\n",
       "      <td>https://m.media-amazon.com/images/M/MV5BN2EyZj...</td>\n",
       "      <td>['http://www.imdb.com/title/tt0120737/videopla...</td>\n",
       "      <td>...</td>\n",
       "      <td>4</td>\n",
       "      <td>52</td>\n",
       "      <td>cast: Alan Howard,Noel Appleby,Sean Astin,Sala...</td>\n",
       "      <td>directors: Peter Jackson</td>\n",
       "      <td>cinematographers: Andrew Lesnie</td>\n",
       "      <td>writers: J.R.R. Tolkien,None,Fran Walsh,Philip...</td>\n",
       "      <td>composers: Howard Shore</td>\n",
       "      <td>producers: Peter Jackson,Michael Lynne,Mark Or...</td>\n",
       "      <td>production companies: Marzano Films,New Line C...</td>\n",
       "      <td>distributors: 7flix,9Go!,A-Film Distribution,A...</td>\n",
       "    </tr>\n",
       "    <tr>\n",
       "      <th>4</th>\n",
       "      <td>tt0167260</td>\n",
       "      <td>9.0</td>\n",
       "      <td>1954914</td>\n",
       "      <td>The Lord of the Rings: The Return of the King</td>\n",
       "      <td>The Lord of the Rings: The Return of the King</td>\n",
       "      <td>201.0</td>\n",
       "      <td>Action,Adventure,Drama</td>\n",
       "      <td>17 Dec 2003 (USA)</td>\n",
       "      <td>https://m.media-amazon.com/images/M/MV5BNzA5ZD...</td>\n",
       "      <td>['http://www.imdb.com/title/tt0167260/videopla...</td>\n",
       "      <td>...</td>\n",
       "      <td>3</td>\n",
       "      <td>50</td>\n",
       "      <td>cast: Noel Appleby,Ali Astin,Sean Astin,David ...</td>\n",
       "      <td>directors: Peter Jackson</td>\n",
       "      <td>cinematographers: Andrew Lesnie</td>\n",
       "      <td>writers: J.R.R. Tolkien,None,Fran Walsh,Philip...</td>\n",
       "      <td>composers: Howard Shore</td>\n",
       "      <td>producers: Peter Jackson,Michael Lynne,Eric Mo...</td>\n",
       "      <td>production companies: New Line Cinema,The Saul...</td>\n",
       "      <td>distributors: 7flix,A-Film Distribution,A-Film...</td>\n",
       "    </tr>\n",
       "  </tbody>\n",
       "</table>\n",
       "<p>5 rows × 28 columns</p>\n",
       "</div>"
      ],
      "text/plain": [
       "     titleId  imdb score  numVotes imdb  \\\n",
       "0  tt0468569         9.0        2834864   \n",
       "1  tt1375666         8.8        2517022   \n",
       "2  tt0816692         8.7        2052953   \n",
       "3  tt0120737         8.9        1982370   \n",
       "4  tt0167260         9.0        1954914   \n",
       "\n",
       "                                        primaryTitle  \\\n",
       "0                                    The Dark Knight   \n",
       "1                                          Inception   \n",
       "2                                       Interstellar   \n",
       "3  The Lord of the Rings: The Fellowship of the Ring   \n",
       "4      The Lord of the Rings: The Return of the King   \n",
       "\n",
       "                                       originalTitle  runtimeMinutes  \\\n",
       "0                                    The Dark Knight           152.0   \n",
       "1                                          Inception           148.0   \n",
       "2                                       Interstellar           169.0   \n",
       "3  The Lord of the Rings: The Fellowship of the Ring           178.0   \n",
       "4      The Lord of the Rings: The Return of the King           201.0   \n",
       "\n",
       "                    genres       release date  \\\n",
       "0       Action,Crime,Drama  18 Jul 2008 (USA)   \n",
       "1  Action,Adventure,Sci-Fi  16 Jul 2010 (USA)   \n",
       "2   Adventure,Drama,Sci-Fi  07 Nov 2014 (USA)   \n",
       "3   Action,Adventure,Drama  19 Dec 2001 (USA)   \n",
       "4   Action,Adventure,Drama  17 Dec 2003 (USA)   \n",
       "\n",
       "                                           cover url  \\\n",
       "0  https://m.media-amazon.com/images/M/MV5BMTMxNT...   \n",
       "1  https://m.media-amazon.com/images/M/MV5BMjAxMz...   \n",
       "2  https://m.media-amazon.com/images/M/MV5BZjdkOT...   \n",
       "3  https://m.media-amazon.com/images/M/MV5BN2EyZj...   \n",
       "4  https://m.media-amazon.com/images/M/MV5BNzA5ZD...   \n",
       "\n",
       "                                              videos  ...  \\\n",
       "0  ['http://www.imdb.com/title/tt0468569/videopla...  ...   \n",
       "1  ['http://www.imdb.com/title/tt1375666/videopla...  ...   \n",
       "2  ['http://www.imdb.com/title/tt0816692/videopla...  ...   \n",
       "3  ['http://www.imdb.com/title/tt0120737/videopla...  ...   \n",
       "4  ['http://www.imdb.com/title/tt0167260/videopla...  ...   \n",
       "\n",
       "  no of production companies no of distributors  \\\n",
       "0                          4                 45   \n",
       "1                          3                 32   \n",
       "2                          8                 28   \n",
       "3                          4                 52   \n",
       "4                          3                 50   \n",
       "\n",
       "                                                cast  \\\n",
       "0  cast: Christian Bale,Heath Ledger,Aaron Eckhar...   \n",
       "1  cast: Leonardo DiCaprio,Joseph Gordon-Levitt,E...   \n",
       "2  cast: Ellen Burstyn,Matthew McConaughey,Macken...   \n",
       "3  cast: Alan Howard,Noel Appleby,Sean Astin,Sala...   \n",
       "4  cast: Noel Appleby,Ali Astin,Sean Astin,David ...   \n",
       "\n",
       "                       director                      cinematographer  \\\n",
       "0  directors: Christopher Nolan      cinematographers: Wally Pfister   \n",
       "1  directors: Christopher Nolan      cinematographers: Wally Pfister   \n",
       "2  directors: Christopher Nolan  cinematographers: Hoyte Van Hoytema   \n",
       "3      directors: Peter Jackson      cinematographers: Andrew Lesnie   \n",
       "4      directors: Peter Jackson      cinematographers: Andrew Lesnie   \n",
       "\n",
       "                                              writer  \\\n",
       "0  writers: Jonathan Nolan,Christopher Nolan,None...   \n",
       "1                         writers: Christopher Nolan   \n",
       "2          writers: Jonathan Nolan,Christopher Nolan   \n",
       "3  writers: J.R.R. Tolkien,None,Fran Walsh,Philip...   \n",
       "4  writers: J.R.R. Tolkien,None,Fran Walsh,Philip...   \n",
       "\n",
       "                                     composer  \\\n",
       "0  composers: James Newton Howard,Hans Zimmer   \n",
       "1                      composers: Hans Zimmer   \n",
       "2                      composers: Hans Zimmer   \n",
       "3                     composers: Howard Shore   \n",
       "4                     composers: Howard Shore   \n",
       "\n",
       "                                            producer  \\\n",
       "0  producers: Kevin de la Noy,Jordan Goldberg,Phi...   \n",
       "1  producers: Zakaria Alaoui,John Bernard,Chris B...   \n",
       "2  producers: Kaari Autry,Jenny Basen,Jill Christ...   \n",
       "3  producers: Peter Jackson,Michael Lynne,Mark Or...   \n",
       "4  producers: Peter Jackson,Michael Lynne,Eric Mo...   \n",
       "\n",
       "                                  production company  \\\n",
       "0  production companies: DC Comics,Legendary Ente...   \n",
       "1  production companies: Legendary Entertainment,...   \n",
       "2  production companies:  Alberta Media Fund,Atvi...   \n",
       "3  production companies: Marzano Films,New Line C...   \n",
       "4  production companies: New Line Cinema,The Saul...   \n",
       "\n",
       "                                         distributor  \n",
       "0  distributors: 9Go!,Alexandra Films,Amazon Prim...  \n",
       "1  distributors: 9Go!,Alexandra Films,Amazon Prim...  \n",
       "2  distributors: 9Go!,Alexandra Films,Cocinsa,Fil...  \n",
       "3  distributors: 7flix,9Go!,A-Film Distribution,A...  \n",
       "4  distributors: 7flix,A-Film Distribution,A-Film...  \n",
       "\n",
       "[5 rows x 28 columns]"
      ]
     },
     "execution_count": 71,
     "metadata": {},
     "output_type": "execute_result"
    }
   ],
   "source": [
    "df1.head()"
   ]
  },
  {
   "cell_type": "code",
   "execution_count": 73,
   "id": "ab63e9e7-89dc-40a0-9f19-6b4e480bf2db",
   "metadata": {},
   "outputs": [],
   "source": [
    "#df1.to_csv(\"/Users/drew/data science club project/data_042424.csv\", index=False)"
   ]
  },
  {
   "cell_type": "code",
   "execution_count": null,
   "id": "e8a67c76-0838-41c5-9286-8bfdc02f9d08",
   "metadata": {},
   "outputs": [],
   "source": []
  }
 ],
 "metadata": {
  "kernelspec": {
   "display_name": "Python 3 (ipykernel)",
   "language": "python",
   "name": "python3"
  },
  "language_info": {
   "codemirror_mode": {
    "name": "ipython",
    "version": 3
   },
   "file_extension": ".py",
   "mimetype": "text/x-python",
   "name": "python",
   "nbconvert_exporter": "python",
   "pygments_lexer": "ipython3",
   "version": "3.11.4"
  }
 },
 "nbformat": 4,
 "nbformat_minor": 5
}

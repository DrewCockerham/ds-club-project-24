{
 "cells": [
  {
   "cell_type": "code",
   "execution_count": 1,
   "id": "e2db0de3-cbaa-4bf5-a9f8-9314a72e3081",
   "metadata": {},
   "outputs": [
    {
     "name": "stderr",
     "output_type": "stream",
     "text": [
      "/var/folders/t1/8mb76jdj5yq__c510cnxz6000000gn/T/ipykernel_3699/3119080988.py:1: DeprecationWarning: \n",
      "Pyarrow will become a required dependency of pandas in the next major release of pandas (pandas 3.0),\n",
      "(to allow more performant data types, such as the Arrow string type, and better interoperability with other libraries)\n",
      "but was not found to be installed on your system.\n",
      "If this would cause problems for you,\n",
      "please provide us feedback at https://github.com/pandas-dev/pandas/issues/54466\n",
      "        \n",
      "  import pandas as pd\n",
      "/Library/Frameworks/Python.framework/Versions/3.11/lib/python3.11/site-packages/tqdm/auto.py:21: TqdmWarning: IProgress not found. Please update jupyter and ipywidgets. See https://ipywidgets.readthedocs.io/en/stable/user_install.html\n",
      "  from .autonotebook import tqdm as notebook_tqdm\n"
     ]
    }
   ],
   "source": [
    "import pandas as pd\n",
    "import re\n",
    "import numpy as np\n",
    "import pandas as pd\n",
    "from sklearn.preprocessing import StandardScaler\n",
    "from sklearn.decomposition import PCA\n",
    "from sentence_transformers import SentenceTransformer\n",
    "model = SentenceTransformer(\"sentence-transformers/all-MiniLM-L6-v2\")"
   ]
  },
  {
   "cell_type": "code",
   "execution_count": 2,
   "id": "6b7aab0f-f50d-4829-9e3b-b86ed13be01b",
   "metadata": {},
   "outputs": [],
   "source": [
    "scalar = StandardScaler()"
   ]
  },
  {
   "cell_type": "code",
   "execution_count": 3,
   "id": "1ccafef1-b782-485a-94d9-515a0c580cb0",
   "metadata": {},
   "outputs": [],
   "source": [
    "import os"
   ]
  },
  {
   "cell_type": "code",
   "execution_count": 4,
   "id": "4b32c1b8-c641-4d3e-ba8d-051b55676c3d",
   "metadata": {},
   "outputs": [],
   "source": [
    "current_directory = os.getcwd()"
   ]
  },
  {
   "cell_type": "code",
   "execution_count": 5,
   "id": "51d683af-5faf-4874-97fc-703317656eb3",
   "metadata": {},
   "outputs": [],
   "source": [
    "path = os.path.join(current_directory, 'imdb_data.csv')"
   ]
  },
  {
   "cell_type": "code",
   "execution_count": 4,
   "id": "a94b359b-638d-4776-8fae-f49cb7b85f10",
   "metadata": {},
   "outputs": [],
   "source": [
    "pattern = r\"name:_(.*?)_>\"\n",
    "def extract_id(item):\n",
    "    if isinstance(item, str):\n",
    "        ids = re.findall(pattern, item)\n",
    "        result_string = \",\".join(ids)\n",
    "        return result_string\n",
    "    return None"
   ]
  },
  {
   "cell_type": "code",
   "execution_count": 5,
   "id": "c28d881a-a1e6-44dc-a954-07808f6624cd",
   "metadata": {},
   "outputs": [],
   "source": [
    "df1.rename(columns={\"startYear\":\"year\",\"averageRating\":\"imdb score\",\"numVotes\":\"numVotes imdb\"}, inplace=True)"
   ]
  },
  {
   "cell_type": "code",
   "execution_count": 6,
   "id": "215b40c5-5e54-4b5b-b1a6-cb55351267cf",
   "metadata": {},
   "outputs": [],
   "source": [
    "df1['cast names'] = df1['cast'].apply(lambda x: extract_id(x))\n",
    "df1['director names'] = df1['director'].apply(lambda x: extract_id(x))\n",
    "df1['writer names'] = df1['writer'].apply(lambda x: extract_id(x))\n",
    "df1['producer names'] = df1['producer'].apply(lambda x: extract_id(x))\n",
    "df1['cinematographer names'] = df1['cinematographer'].apply(lambda x: extract_id(x))\n",
    "df1['distributor names'] = df1['distributors'].apply(lambda x: extract_id(x))\n",
    "df1['production company names'] = df1['production companies'].apply(lambda x: extract_id(x))\n",
    "df1['composer names'] = df1['composer'].apply(lambda x: extract_id(x))"
   ]
  },
  {
   "cell_type": "code",
   "execution_count": 7,
   "id": "edd0aeb1-77ae-43ce-bcb5-6caede9b4b7a",
   "metadata": {},
   "outputs": [],
   "source": [
    "df1.drop(columns=['simple_id','original air date','cast', 'director',\n",
    "       'writer', 'producer', 'cinematographer', 'editor',\n",
    "       'editorial department', 'casting director', 'production design',\n",
    "       'set decoration', 'costume designer', 'make up', 'production manager',\n",
    "       'assistant director', 'art department', 'sound crew',\n",
    "       'camera and electrical department', 'casting department',\n",
    "       'location management', 'miscellaneous crew', 'production companies',\n",
    "       'distributors', 'other companies', 'composer', 'art direction',\n",
    "       'visual effects', 'costume department', 'music department',\n",
    "       'script department', 'transportation department', 'special effects',\n",
    "       'special effects companies', 'animation department'], inplace=True)"
   ]
  },
  {
   "cell_type": "code",
   "execution_count": 8,
   "id": "0dbb0c35-0013-4dfe-99b5-9409dbbeffef",
   "metadata": {},
   "outputs": [],
   "source": [
    "def remove_duplicates(cell):\n",
    "    if not pd.isna(cell):\n",
    "        unique_values = set(cell.split(','))\n",
    "        return ','.join(sorted(unique_values))\n",
    "    else:\n",
    "        return cell"
   ]
  },
  {
   "cell_type": "code",
   "execution_count": 9,
   "id": "dff6c3da-a34e-4d62-bf74-3eef3dc5008e",
   "metadata": {},
   "outputs": [],
   "source": [
    "df1['distributor names'] = df1['distributor names'].apply(remove_duplicates)\n",
    "df1['production company names'] = df1['production company names'].apply(remove_duplicates)"
   ]
  },
  {
   "cell_type": "code",
   "execution_count": 10,
   "id": "17301a58-7d29-48b6-b780-c817b5e3a744",
   "metadata": {},
   "outputs": [],
   "source": [
    "def first_thirty_values(input_string):\n",
    "    values_list = input_string.split(\",\")\n",
    "    \n",
    "    first_30_values = values_list[:30]\n",
    "    \n",
    "    output_string = \",\".join(first_30_values)\n",
    "    \n",
    "    return output_string"
   ]
  },
  {
   "cell_type": "code",
   "execution_count": 11,
   "id": "6c48bace-8aaa-40c2-baec-bbb97b1ab9b9",
   "metadata": {},
   "outputs": [],
   "source": [
    "df1[\"no of cast\"]=-1\n",
    "df1[\"no of writers\"]=-1\n",
    "df1[\"no of directors\"]=-1\n",
    "df1[\"no of composers\"]=-1\n",
    "df1[\"no of producers\"]=-1\n",
    "df1[\"no of cinematographers\"]=-1\n",
    "df1[\"no of production companies\"]=-1\n",
    "df1[\"no of distributors\"]=-1"
   ]
  },
  {
   "cell_type": "code",
   "execution_count": 12,
   "id": "65598ed6-259d-4ab5-9802-0f451f220958",
   "metadata": {},
   "outputs": [],
   "source": [
    "column_list=['cast names',\n",
    "       'director names', 'writer names', 'producer names',\n",
    "       'cinematographer names', 'distributor names',\n",
    "       'production company names', 'composer names']\n",
    "column_list_2=[\"no of cast\",\"no of directors\",\"no of writers\",\"no of producers\",\"no of cinematographers\",\n",
    "               \"no of distributors\",\"no of production companies\",\"no of composers\"]"
   ]
  },
  {
   "cell_type": "code",
   "execution_count": 13,
   "id": "c2b7ecf8-2ddf-43fb-b856-59c7d4928dd6",
   "metadata": {},
   "outputs": [],
   "source": [
    "for i in range(0,len(df1)):\n",
    "    for y in range(0,8):\n",
    "        if df1.loc[i, column_list[y]] is not None and not isinstance(df1.loc[i, column_list[y]], float):\n",
    "            names = df1.loc[i,column_list[y]].split(',')\n",
    "            length=len(names)\n",
    "            df1.at[i,column_list_2[y]] = length\n",
    "        else: \n",
    "            df1.at[i, column_list[y]] = \"Missing\""
   ]
  },
  {
   "cell_type": "code",
   "execution_count": 14,
   "id": "986d99f5-ab5b-4a35-9d8c-fd590d375f81",
   "metadata": {},
   "outputs": [
    {
     "name": "stderr",
     "output_type": "stream",
     "text": [
      "/var/folders/t1/8mb76jdj5yq__c510cnxz6000000gn/T/ipykernel_2944/3203545160.py:4: FutureWarning: Setting an item of incompatible dtype is deprecated and will raise an error in a future version of pandas. Value '29.62584916675512' has dtype incompatible with int64, please explicitly cast to a compatible dtype first.\n",
      "  df1.at[i,x]=df1[x].mean()\n",
      "/var/folders/t1/8mb76jdj5yq__c510cnxz6000000gn/T/ipykernel_2944/3203545160.py:4: FutureWarning: Setting an item of incompatible dtype is deprecated and will raise an error in a future version of pandas. Value '1.146786434561087' has dtype incompatible with int64, please explicitly cast to a compatible dtype first.\n",
      "  df1.at[i,x]=df1[x].mean()\n",
      "/var/folders/t1/8mb76jdj5yq__c510cnxz6000000gn/T/ipykernel_2944/3203545160.py:4: FutureWarning: Setting an item of incompatible dtype is deprecated and will raise an error in a future version of pandas. Value '2.8153858401443586' has dtype incompatible with int64, please explicitly cast to a compatible dtype first.\n",
      "  df1.at[i,x]=df1[x].mean()\n",
      "/var/folders/t1/8mb76jdj5yq__c510cnxz6000000gn/T/ipykernel_2944/3203545160.py:4: FutureWarning: Setting an item of incompatible dtype is deprecated and will raise an error in a future version of pandas. Value '6.286341683473092' has dtype incompatible with int64, please explicitly cast to a compatible dtype first.\n",
      "  df1.at[i,x]=df1[x].mean()\n",
      "/var/folders/t1/8mb76jdj5yq__c510cnxz6000000gn/T/ipykernel_2944/3203545160.py:4: FutureWarning: Setting an item of incompatible dtype is deprecated and will raise an error in a future version of pandas. Value '0.9949978770831122' has dtype incompatible with int64, please explicitly cast to a compatible dtype first.\n",
      "  df1.at[i,x]=df1[x].mean()\n",
      "/var/folders/t1/8mb76jdj5yq__c510cnxz6000000gn/T/ipykernel_2944/3203545160.py:4: FutureWarning: Setting an item of incompatible dtype is deprecated and will raise an error in a future version of pandas. Value '4.320666595902771' has dtype incompatible with int64, please explicitly cast to a compatible dtype first.\n",
      "  df1.at[i,x]=df1[x].mean()\n",
      "/var/folders/t1/8mb76jdj5yq__c510cnxz6000000gn/T/ipykernel_2944/3203545160.py:4: FutureWarning: Setting an item of incompatible dtype is deprecated and will raise an error in a future version of pandas. Value '2.896375119414075' has dtype incompatible with int64, please explicitly cast to a compatible dtype first.\n",
      "  df1.at[i,x]=df1[x].mean()\n",
      "/var/folders/t1/8mb76jdj5yq__c510cnxz6000000gn/T/ipykernel_2944/3203545160.py:4: FutureWarning: Setting an item of incompatible dtype is deprecated and will raise an error in a future version of pandas. Value '0.8822046491879842' has dtype incompatible with int64, please explicitly cast to a compatible dtype first.\n",
      "  df1.at[i,x]=df1[x].mean()\n"
     ]
    }
   ],
   "source": [
    "for x in column_list_2:\n",
    "    for i in range(0,len(df1)):\n",
    "        if df1.loc[i,x]==-1:\n",
    "            df1.at[i,x]=df1[x].mean()"
   ]
  },
  {
   "cell_type": "code",
   "execution_count": 15,
   "id": "dfcccd0b-a057-40f1-b3fb-68fbf8758b4c",
   "metadata": {},
   "outputs": [],
   "source": [
    "for i in range(0,len(df1)):\n",
    "   if isinstance(df1.loc[i,'genres'],float):\n",
    "       df1.at[i,'genres']='Missing'"
   ]
  },
  {
   "cell_type": "code",
   "execution_count": 16,
   "id": "d87c7ee7-7399-40bb-9615-24c54e1808f9",
   "metadata": {},
   "outputs": [],
   "source": [
    "for i in range(0,len(df1)):\n",
    "    if pd.isna(df1.loc[i, \"runtimeMinutes\"]):\n",
    "        df1.at[i,\"runtimeMinutes\"]=df1['runtimeMinutes'].mean()"
   ]
  },
  {
   "cell_type": "code",
   "execution_count": 17,
   "id": "625c443d-ef03-4c5c-8e96-47f8a4500fc3",
   "metadata": {},
   "outputs": [],
   "source": [
    "# for x in df1.columns:\n",
    "#     print(x)\n",
    "#     print(df1[x].isna().sum())"
   ]
  },
  {
   "cell_type": "code",
   "execution_count": 18,
   "id": "376cbb07-c40e-4c00-b610-482e32d2fbee",
   "metadata": {},
   "outputs": [],
   "source": [
    "df1['top 30 cast'] = df1['cast names'].apply(lambda x: first_thirty_values(x))"
   ]
  },
  {
   "cell_type": "code",
   "execution_count": 19,
   "id": "10c5e468-0f06-4f80-8367-339192a33718",
   "metadata": {},
   "outputs": [],
   "source": [
    "for i in range(0,len(df1)):\n",
    "    df1.at[i,\"cast\"]=f\"cast: {df1.loc[i,'top 30 cast']}\""
   ]
  },
  {
   "cell_type": "code",
   "execution_count": 20,
   "id": "62a6e5d9-b951-46c2-bb9b-ea26381cdf2b",
   "metadata": {},
   "outputs": [],
   "source": [
    "for i in range(0,len(df1)):\n",
    "    df1.at[i,\"director\"]=f\"directors: {df1.loc[i,'director names']}\"\n",
    "    df1.at[i,\"cinematographer\"]=f\"cinematographers: {df1.loc[i,'cinematographer names']}\"\n",
    "    df1.at[i,\"writer\"]=f\"writers: {df1.loc[i,'writer names']}\"\n",
    "    df1.at[i,\"composer\"]=f\"composers: {df1.loc[i,'composer names']}\"\n",
    "    df1.at[i,\"producer\"]=f\"producers: {df1.loc[i,'producer names']}\"\n",
    "    df1.at[i,\"production company\"]=f\"production companies: {df1.loc[i,'production company names']}\"\n",
    "    df1.at[i,\"distributor\"]=f\"distributors: {df1.loc[i,'distributor names']}\"\n",
    "    df1.at[i,\"primaryTitle\"]=f\"title: {df1.loc[i,'primaryTitle']}\"\n",
    "    df1.at[i,\"genres\"]=f\"genres: {df1.loc[i,'genres']}\""
   ]
  },
  {
   "cell_type": "code",
   "execution_count": 21,
   "id": "f6f6fa27-250e-40ce-be7c-0ed45896879c",
   "metadata": {},
   "outputs": [],
   "source": [
    "df1.drop(columns=['cast names',\n",
    "       'director names', 'writer names', 'producer names',\n",
    "       'cinematographer names', 'distributor names',\n",
    "       'production company names', 'composer names','top 30 cast','cover url','languages','plot outline','videos','originalTitle','titleId','numVotes imdb'],inplace=True)"
   ]
  },
  {
   "cell_type": "code",
   "execution_count": 22,
   "id": "fc9e994d-54e9-42b4-bfbc-80ce8e86899a",
   "metadata": {},
   "outputs": [],
   "source": [
    "# df1.columns"
   ]
  },
  {
   "cell_type": "code",
   "execution_count": 23,
   "id": "ae5c909e-18cb-423b-bfcc-889945c36b46",
   "metadata": {},
   "outputs": [],
   "source": [
    "cast_list=[]\n",
    "distributor_list=[]\n",
    "cinematographer_list=[]\n",
    "director_list=[]\n",
    "writer_list=[]\n",
    "producer_list=[]\n",
    "production_company_list=[]\n",
    "composer_list=[]\n",
    "title_list=[]\n",
    "genre_list=[]"
   ]
  },
  {
   "cell_type": "code",
   "execution_count": 24,
   "id": "994754e4-d038-466b-b56a-e5c43bce1cf1",
   "metadata": {},
   "outputs": [],
   "source": [
    "for i in range(0,len(df1)):\n",
    "    cast_list.append(df1.loc[i,'cast'])\n",
    "    distributor_list.append(df1.loc[i,'distributor'])\n",
    "    writer_list.append(df1.loc[i,'writer'])\n",
    "    production_company_list.append(df1.loc[i,'production company'])\n",
    "    director_list.append(df1.loc[i,'director'])\n",
    "    composer_list.append(df1.loc[i,'composer'])\n",
    "    producer_list.append(df1.loc[i,'producer'])\n",
    "    cinematographer_list.append(df1.loc[i,'cinematographer'])\n",
    "    title_list.append(df1.loc[i,'primaryTitle'])\n",
    "    genre_list.append(df1.loc[i,'genres'])"
   ]
  },
  {
   "cell_type": "code",
   "execution_count": 25,
   "id": "f5d62019-ee72-46a9-a90e-07a3c56ea3e1",
   "metadata": {},
   "outputs": [],
   "source": [
    "cast_embeddings = model.encode(cast_list)\n",
    "distributor_embeddings=model.encode(distributor_list)\n",
    "director_embeddings = model.encode(director_list)\n",
    "writer_embeddings = model.encode(writer_list)\n",
    "producer_embeddings = model.encode(producer_list)\n",
    "cinematographer_embeddings = model.encode(cinematographer_list)\n",
    "production_company_embeddings = model.encode(production_company_list)\n",
    "composer_embeddings = model.encode(composer_list)\n",
    "title_embeddings = model.encode(title_list)\n",
    "genre_embeddings = model.encode(genre_list)\n",
    "\n",
    "cast_df = pd.DataFrame(cast_embeddings)\n",
    "distributor_df=pd.DataFrame(distributor_embeddings)\n",
    "director_df = pd.DataFrame(director_embeddings)\n",
    "writer_df = pd.DataFrame(writer_embeddings)\n",
    "producer_df = pd.DataFrame(producer_embeddings)\n",
    "cinematographer_df = pd.DataFrame(cinematographer_embeddings)\n",
    "production_company_df = pd.DataFrame(production_company_embeddings)\n",
    "composer_df = pd.DataFrame(composer_embeddings)\n",
    "title_df = pd.DataFrame(title_embeddings)\n",
    "genre_df = pd.DataFrame(genre_embeddings)"
   ]
  },
  {
   "cell_type": "code",
   "execution_count": 26,
   "id": "0e250fbc-be9c-4650-bfdd-8c658f0c9b43",
   "metadata": {},
   "outputs": [],
   "source": [
    "from sklearn.metrics import mean_squared_error, mean_absolute_error\n",
    "from sklearn.linear_model import LinearRegression\n",
    "from sklearn.model_selection import train_test_split\n",
    "from sklearn.ensemble import RandomForestRegressor\n",
    "import pickle"
   ]
  },
  {
   "cell_type": "code",
   "execution_count": 27,
   "id": "af09ce90-5529-4790-a241-af56bc60ec7a",
   "metadata": {},
   "outputs": [],
   "source": [
    "embeddings_df=pd.concat([cast_df,composer_df,director_df,producer_df,cinematographer_df,title_df,genre_df,distributor_df,production_company_df,writer_df],axis=1)\n",
    "embeddings_scaled = pd.DataFrame(scalar.fit_transform(embeddings_df)) \n",
    "pca = PCA(n_components = 30)\n",
    "pca.fit(embeddings_scaled)\n",
    "embeddings_pca = pca.transform(embeddings_scaled)\n",
    "embeddings_pca = pd.DataFrame(embeddings_pca,columns=[f'cast PC{i + 1}' for i in range(30)])\n",
    "df2=pd.concat([df1,embeddings_pca],axis=1)\n",
    "df3=df2.drop(columns=['primaryTitle','genres','cast','director','cinematographer','writer','composer','producer','production company','distributor'])"
   ]
  },
  {
   "cell_type": "code",
   "execution_count": 28,
   "id": "566fcd4f-8131-42ee-a0df-5a8a5f30724d",
   "metadata": {},
   "outputs": [],
   "source": [
    "X = df3.drop('imdb score', axis=1)\n",
    "y = df3['imdb score']\n",
    "X_train, X_test, y_train, y_test = train_test_split(X, y, test_size=0.25, random_state=42)"
   ]
  },
  {
   "cell_type": "code",
   "execution_count": 29,
   "id": "2176f7ba-4d60-46cf-8976-d20c179ec22e",
   "metadata": {},
   "outputs": [],
   "source": [
    "model3 = RandomForestRegressor(n_estimators=100, random_state=42)\n",
    "model3.fit(X_train, y_train)\n",
    "predictions3 = model3.predict(X_test)\n",
    "mse3 = mean_squared_error(y_test, predictions3)\n",
    "rmse3 = mse3**0.5\n",
    "mae3 = mean_absolute_error(y_test, predictions3)"
   ]
  },
  {
   "cell_type": "code",
   "execution_count": 30,
   "id": "9a1d32f1-8e5d-4bd3-92e1-b2e67cfe5f7f",
   "metadata": {},
   "outputs": [
    {
     "name": "stdout",
     "output_type": "stream",
     "text": [
      "1.0460792289565863\n",
      "1.02278014693119\n",
      "0.7724702260906486\n"
     ]
    }
   ],
   "source": [
    "print(mse3)\n",
    "print(rmse3)\n",
    "print(mae3)\n",
    "\n",
    "# 1.0460792289565863\n",
    "# 1.02278014693119\n",
    "# 0.7724702260906486"
   ]
  }
 ],
 "metadata": {
  "kernelspec": {
   "display_name": "Python 3 (ipykernel)",
   "language": "python",
   "name": "python3"
  },
  "language_info": {
   "codemirror_mode": {
    "name": "ipython",
    "version": 3
   },
   "file_extension": ".py",
   "mimetype": "text/x-python",
   "name": "python",
   "nbconvert_exporter": "python",
   "pygments_lexer": "ipython3",
   "version": "3.11.4"
  }
 },
 "nbformat": 4,
 "nbformat_minor": 5
}

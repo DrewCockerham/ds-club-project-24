{
 "cells": [
  {
   "cell_type": "code",
   "execution_count": 2,
   "id": "e2db0de3-cbaa-4bf5-a9f8-9314a72e3081",
   "metadata": {},
   "outputs": [],
   "source": [
    "import pandas as pd\n",
    "import re"
   ]
  },
  {
   "cell_type": "code",
   "execution_count": 3,
   "id": "237e9e9a-9b09-4498-ba3e-a8f02be9208b",
   "metadata": {},
   "outputs": [],
   "source": [
    "df1 = pd.read_csv(\"/Users/drew/data science club project/whole_dataset.csv\", low_memory=False)"
   ]
  },
  {
   "cell_type": "code",
   "execution_count": 4,
   "id": "a94b359b-638d-4776-8fae-f49cb7b85f10",
   "metadata": {},
   "outputs": [],
   "source": [
    "pattern = r\"name:_(.*?)_>\"\n",
    "def extract_id(item):\n",
    "    if isinstance(item, str):\n",
    "        ids = re.findall(pattern, item)\n",
    "        result_string = \",\".join(ids)\n",
    "        return result_string\n",
    "    return None"
   ]
  },
  {
   "cell_type": "code",
   "execution_count": 5,
   "id": "c28d881a-a1e6-44dc-a954-07808f6624cd",
   "metadata": {},
   "outputs": [],
   "source": [
    "df1.drop(columns=\"simple_id\", inplace=True)\n",
    "df1.rename(columns={\"original air date\":\"release date\"}, inplace=True)\n",
    "df1.rename(columns={\"averageRating\":\"imdb score\"}, inplace=True)\n",
    "df1.rename(columns={\"numVotes\":\"numVotes imdb\"}, inplace=True)\n",
    "df1.drop(columns=\"startYear\", inplace=True)"
   ]
  },
  {
   "cell_type": "code",
   "execution_count": null,
   "id": "215b40c5-5e54-4b5b-b1a6-cb55351267cf",
   "metadata": {},
   "outputs": [],
   "source": [
    "df1['cast names'] = df1['cast'].apply(lambda x: extract_id(x))\n",
    "df1['director names'] = df1['director'].apply(lambda x: extract_id(x))\n",
    "df1['writer names'] = df1['writer'].apply(lambda x: extract_id(x))\n",
    "df1['producer names'] = df1['producer'].apply(lambda x: extract_id(x))\n",
    "df1['cinematographer names'] = df1['cinematographer'].apply(lambda x: extract_id(x))\n",
    "df1['distributor names'] = df1['distributors'].apply(lambda x: extract_id(x))\n",
    "df1['production company names'] = df1['production companies'].apply(lambda x: extract_id(x))\n",
    "df1['composer names'] = df1['composer'].apply(lambda x: extract_id(x))"
   ]
  },
  {
   "cell_type": "code",
   "execution_count": null,
   "id": "edd0aeb1-77ae-43ce-bcb5-6caede9b4b7a",
   "metadata": {},
   "outputs": [],
   "source": [
    "df1.drop(columns=['cast', 'director',\n",
    "       'writer', 'producer', 'cinematographer', 'editor',\n",
    "       'editorial department', 'casting director', 'production design',\n",
    "       'set decoration', 'costume designer', 'make up', 'production manager',\n",
    "       'assistant director', 'art department', 'sound crew',\n",
    "       'camera and electrical department', 'casting department',\n",
    "       'location management', 'miscellaneous crew', 'production companies',\n",
    "       'distributors', 'other companies', 'composer', 'art direction',\n",
    "       'visual effects', 'costume department', 'music department',\n",
    "       'script department', 'transportation department', 'special effects',\n",
    "       'special effects companies', 'animation department'], inplace=True)"
   ]
  },
  {
   "cell_type": "code",
   "execution_count": null,
   "id": "0dbb0c35-0013-4dfe-99b5-9409dbbeffef",
   "metadata": {},
   "outputs": [],
   "source": [
    "def remove_duplicates(cell):\n",
    "    if not pd.isna(cell):\n",
    "        unique_values = set(cell.split(','))\n",
    "        return ','.join(sorted(unique_values))\n",
    "    else:\n",
    "        return cell"
   ]
  },
  {
   "cell_type": "code",
   "execution_count": null,
   "id": "dff6c3da-a34e-4d62-bf74-3eef3dc5008e",
   "metadata": {},
   "outputs": [],
   "source": [
    "df1['distributor names'] = df1['distributor names'].apply(remove_duplicates)\n",
    "df1['production company names'] = df1['production company names'].apply(remove_duplicates)"
   ]
  },
  {
   "cell_type": "code",
   "execution_count": null,
   "id": "17301a58-7d29-48b6-b780-c817b5e3a744",
   "metadata": {},
   "outputs": [],
   "source": [
    "def first_thirty_values(input_string):\n",
    "    values_list = input_string.split(\",\")\n",
    "    \n",
    "    first_30_values = values_list[:30]\n",
    "    \n",
    "    output_string = \",\".join(first_30_values)\n",
    "    \n",
    "    return output_string"
   ]
  },
  {
   "cell_type": "code",
   "execution_count": null,
   "id": "6c48bace-8aaa-40c2-baec-bbb97b1ab9b9",
   "metadata": {},
   "outputs": [],
   "source": [
    "df1[\"no of cast\"]=-1\n",
    "df1[\"no of writers\"]=-1\n",
    "df1[\"no of directors\"]=-1\n",
    "df1[\"no of composers\"]=-1\n",
    "df1[\"no of producers\"]=-1\n",
    "df1[\"no of cinematographers\"]=-1\n",
    "df1[\"no of production companies\"]=-1\n",
    "df1[\"no of distributors\"]=-1"
   ]
  },
  {
   "cell_type": "code",
   "execution_count": null,
   "id": "65598ed6-259d-4ab5-9802-0f451f220958",
   "metadata": {},
   "outputs": [],
   "source": [
    "column_list=['cast names',\n",
    "       'director names', 'writer names', 'producer names',\n",
    "       'cinematographer names', 'distributor names',\n",
    "       'production company names', 'composer names']"
   ]
  },
  {
   "cell_type": "code",
   "execution_count": null,
   "id": "c2b7ecf8-2ddf-43fb-b856-59c7d4928dd6",
   "metadata": {},
   "outputs": [],
   "source": [
    "for i in range(0,len(df1)):\n",
    "    if df1.loc[i, \"producer names\"] is not None and not isinstance(df1.loc[i, \"producer names\"], float):\n",
    "        names = df1.loc[i,\"producer names\"].split(',')\n",
    "        length=len(names)\n",
    "        df1.at[i,\"no of producers\"] = length\n",
    "    else: \n",
    "        df1.at[i, 'producer names'] = \"missing\""
   ]
  }
 ],
 "metadata": {
  "kernelspec": {
   "display_name": "Python 3 (ipykernel)",
   "language": "python",
   "name": "python3"
  },
  "language_info": {
   "codemirror_mode": {
    "name": "ipython",
    "version": 3
   },
   "file_extension": ".py",
   "mimetype": "text/x-python",
   "name": "python",
   "nbconvert_exporter": "python",
   "pygments_lexer": "ipython3",
   "version": "3.11.4"
  }
 },
 "nbformat": 4,
 "nbformat_minor": 5
}

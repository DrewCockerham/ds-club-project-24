{
 "cells": [
  {
   "cell_type": "code",
   "execution_count": 2,
   "id": "36c9fab4",
   "metadata": {},
   "outputs": [],
   "source": [
    "import pandas as pd\n",
    "import os\n",
    "current_directory=os.getcwd()\n",
    "subdirectory='data'\n",
    "path1=os.path.join(current_directory,subdirectory,'partial_dataset_0.csv')\n",
    "path2=os.path.join(current_directory,subdirectory,'partial_dataset_1.csv')\n",
    "path3=os.path.join(current_directory,subdirectory,'partial_dataset_2.csv')\n",
    "path4=os.path.join(current_directory,subdirectory,'partial_dataset_3.csv')\n",
    "path5=os.path.join(current_directory,subdirectory,'partial_dataset_4.csv')\n",
    "path6=os.path.join(current_directory,subdirectory,'partial_dataset_5.csv')\n",
    "path7=os.path.join(current_directory,subdirectory,'partial_dataset_6.csv')\n",
    "path8=os.path.join(current_directory,subdirectory,'partial_dataset_7.csv')\n",
    "df1=pd.read_csv(path1, low_memory = False)\n",
    "df2=pd.read_csv(path2, low_memory = False)\n",
    "df3=pd.read_csv(path3, low_memory = False)\n",
    "df4=pd.read_csv(path4, low_memory = False)\n",
    "df5=pd.read_csv(path5, low_memory = False)\n",
    "df6=pd.read_csv(path6, low_memory = False)\n",
    "df7=pd.read_csv(path7, low_memory = False)\n",
    "df8=pd.read_csv(path8, low_memory = False)\n",
    "combined_df = pd.concat([df1, df2, df3, df4, df5, df6, df7, df8], ignore_index=True)\n",
    "combined_df.to_csv(os.path.join(current_directory,subdirectory,'imdb_data.csv'), index=False)"
   ]
  }
 ],
 "metadata": {
  "kernelspec": {
   "display_name": "Python 3 (ipykernel)",
   "language": "python",
   "name": "python3"
  },
  "language_info": {
   "codemirror_mode": {
    "name": "ipython",
    "version": 3
   },
   "file_extension": ".py",
   "mimetype": "text/x-python",
   "name": "python",
   "nbconvert_exporter": "python",
   "pygments_lexer": "ipython3",
   "version": "3.11.4"
  }
 },
 "nbformat": 4,
 "nbformat_minor": 5
}

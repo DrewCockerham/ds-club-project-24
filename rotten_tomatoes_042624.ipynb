{
 "cells": [
  {
   "cell_type": "code",
   "execution_count": 1,
   "id": "ef9bcf46-601a-4ef1-b17f-6c13350565c4",
   "metadata": {},
   "outputs": [
    {
     "name": "stderr",
     "output_type": "stream",
     "text": [
      "/var/folders/t1/8mb76jdj5yq__c510cnxz6000000gn/T/ipykernel_8355/2162656668.py:1: DeprecationWarning: \n",
      "Pyarrow will become a required dependency of pandas in the next major release of pandas (pandas 3.0),\n",
      "(to allow more performant data types, such as the Arrow string type, and better interoperability with other libraries)\n",
      "but was not found to be installed on your system.\n",
      "If this would cause problems for you,\n",
      "please provide us feedback at https://github.com/pandas-dev/pandas/issues/54466\n",
      "        \n",
      "  import pandas as pd\n"
     ]
    }
   ],
   "source": [
    "import pandas as pd\n",
    "import numpy as np"
   ]
  },
  {
   "cell_type": "code",
   "execution_count": 2,
   "id": "cd1d3e47-b030-4b3b-b14e-c2505e2ae852",
   "metadata": {},
   "outputs": [],
   "source": [
    "df1 = pd.read_csv(\"/Users/drew/data science club project/41724 rotten tomatoes data/Rotten_Tomato_Info.csv\", low_memory=False)"
   ]
  },
  {
   "cell_type": "code",
   "execution_count": 3,
   "id": "f2adc3df-7c15-4665-9374-282149154f85",
   "metadata": {},
   "outputs": [
    {
     "data": {
      "text/html": [
       "<div>\n",
       "<style scoped>\n",
       "    .dataframe tbody tr th:only-of-type {\n",
       "        vertical-align: middle;\n",
       "    }\n",
       "\n",
       "    .dataframe tbody tr th {\n",
       "        vertical-align: top;\n",
       "    }\n",
       "\n",
       "    .dataframe thead th {\n",
       "        text-align: right;\n",
       "    }\n",
       "</style>\n",
       "<table border=\"1\" class=\"dataframe\">\n",
       "  <thead>\n",
       "    <tr style=\"text-align: right;\">\n",
       "      <th></th>\n",
       "      <th>title</th>\n",
       "      <th>id</th>\n",
       "      <th>Tomatometer</th>\n",
       "      <th>Audience Score</th>\n",
       "      <th>Rating</th>\n",
       "      <th>Genre</th>\n",
       "      <th>Original Language</th>\n",
       "      <th>Director</th>\n",
       "      <th>Producer</th>\n",
       "      <th>Writer</th>\n",
       "      <th>Release Date (Theaters)</th>\n",
       "      <th>Rerelease Date (Theaters)</th>\n",
       "      <th>Release Date (Streaming)</th>\n",
       "      <th>Box Office (Gross USA)</th>\n",
       "      <th>Runtime</th>\n",
       "      <th>Distributor</th>\n",
       "      <th>Production Co</th>\n",
       "      <th>Sound Mix</th>\n",
       "      <th>Aspect Ratio</th>\n",
       "      <th>View the collection</th>\n",
       "    </tr>\n",
       "  </thead>\n",
       "  <tbody>\n",
       "    <tr>\n",
       "      <th>0</th>\n",
       "      <td>The Dark Knight (2008)</td>\n",
       "      <td>tt0468569</td>\n",
       "      <td>94</td>\n",
       "      <td>94</td>\n",
       "      <td>PG-13 (Some Menace|Intense Sequences of Violence)</td>\n",
       "      <td>Action, Adventure, Fantasy</td>\n",
       "      <td>English</td>\n",
       "      <td>Christopher Nolan</td>\n",
       "      <td>Emma Thomas, Charles Roven, Christopher Nolan</td>\n",
       "      <td>Jonathan Nolan, Christopher Nolan</td>\n",
       "      <td>Jul 18, 2008  Wide</td>\n",
       "      <td>Sep 15, 2023</td>\n",
       "      <td>Jun 14, 2010</td>\n",
       "      <td>$2.0M</td>\n",
       "      <td>2h 32m</td>\n",
       "      <td>Warner Bros. Pictures</td>\n",
       "      <td>Syncopy, Legendary Entertainment, Warner Bros.</td>\n",
       "      <td>DTS, Dolby Digital, SDDS</td>\n",
       "      <td>Scope (2.35:1)</td>\n",
       "      <td>Batman</td>\n",
       "    </tr>\n",
       "    <tr>\n",
       "      <th>1</th>\n",
       "      <td>The Lord of the Rings: The Fellowship of the R...</td>\n",
       "      <td>tt0120737</td>\n",
       "      <td>91</td>\n",
       "      <td>95</td>\n",
       "      <td>PG-13 (Some Scary Images|Epic Battle Sequences)</td>\n",
       "      <td>Fantasy, Adventure</td>\n",
       "      <td>English</td>\n",
       "      <td>Peter Jackson</td>\n",
       "      <td>Peter Jackson, Barrie M. Osborne, Fran Walsh, ...</td>\n",
       "      <td>Peter Jackson, Fran Walsh, Philippa Boyens, J....</td>\n",
       "      <td>Dec 19, 2001  Wide</td>\n",
       "      <td>NaN</td>\n",
       "      <td>Jun 28, 2011</td>\n",
       "      <td>$315.5M</td>\n",
       "      <td>2h 58m</td>\n",
       "      <td>New Line Cinema, FS Film Oy, Argentina Video H...</td>\n",
       "      <td>New Line Cinema, WingNut Films, Saul Zaentz Co...</td>\n",
       "      <td>Dolby SR, DTS, Dolby Stereo, Surround, SDDS, D...</td>\n",
       "      <td>Scope (2.35:1)</td>\n",
       "      <td>Lord of The Rings</td>\n",
       "    </tr>\n",
       "    <tr>\n",
       "      <th>2</th>\n",
       "      <td>Inception (2010)</td>\n",
       "      <td>tt1375666</td>\n",
       "      <td>87</td>\n",
       "      <td>91</td>\n",
       "      <td>PG-13 (Sequences of Violence|Sequences of Action)</td>\n",
       "      <td>Sci-fi, Mystery &amp; thriller, Action</td>\n",
       "      <td>English</td>\n",
       "      <td>Christopher Nolan</td>\n",
       "      <td>Christopher Nolan, Emma Thomas</td>\n",
       "      <td>Christopher Nolan</td>\n",
       "      <td>Jul 16, 2010  Wide</td>\n",
       "      <td>Jul 31, 2020</td>\n",
       "      <td>Jun 20, 2013</td>\n",
       "      <td>$292.6M</td>\n",
       "      <td>2h 28m</td>\n",
       "      <td>Warner Bros. Pictures</td>\n",
       "      <td>Syncopy, Warner Bros.</td>\n",
       "      <td>DTS, Dolby Digital, SDDS</td>\n",
       "      <td>Scope (2.35:1)</td>\n",
       "      <td>NaN</td>\n",
       "    </tr>\n",
       "    <tr>\n",
       "      <th>3</th>\n",
       "      <td>The Lord of the Rings: The Return of the King ...</td>\n",
       "      <td>tt0167260</td>\n",
       "      <td>94</td>\n",
       "      <td>86</td>\n",
       "      <td>PG-13 (Intense Epic Battle Sequences|Frighteni...</td>\n",
       "      <td>Fantasy, Adventure</td>\n",
       "      <td>English</td>\n",
       "      <td>Peter Jackson</td>\n",
       "      <td>Barrie M. Osborne, Fran Walsh</td>\n",
       "      <td>Peter Jackson, Philippa Boyens, Fran Walsh</td>\n",
       "      <td>Dec 17, 2003  Wide</td>\n",
       "      <td>NaN</td>\n",
       "      <td>Apr 6, 2010</td>\n",
       "      <td>$377.8M</td>\n",
       "      <td>3h 20m</td>\n",
       "      <td>New Line Cinema</td>\n",
       "      <td>New Line Cinema, Saul Zaentz Company</td>\n",
       "      <td>Dolby Stereo, Dolby A, Surround, Dolby Digital...</td>\n",
       "      <td>Scope (2.35:1)</td>\n",
       "      <td>Lord of The Rings</td>\n",
       "    </tr>\n",
       "    <tr>\n",
       "      <th>4</th>\n",
       "      <td>Gladiator (2000)</td>\n",
       "      <td>tt0172495</td>\n",
       "      <td>79</td>\n",
       "      <td>87</td>\n",
       "      <td>R (Intense Graphic Combat)</td>\n",
       "      <td>History, Drama, Adventure, Action</td>\n",
       "      <td>English</td>\n",
       "      <td>Ridley Scott</td>\n",
       "      <td>David Franzoni, Branko Lustig, Douglas Wick</td>\n",
       "      <td>David Franzoni, John Logan, William Nicholson,...</td>\n",
       "      <td>May 5, 2000  Wide</td>\n",
       "      <td>NaN</td>\n",
       "      <td>Jun 15, 2011</td>\n",
       "      <td>$187.7M</td>\n",
       "      <td>2h 34m</td>\n",
       "      <td>Universal Pictures, DreamWorks SKG</td>\n",
       "      <td>Universal Pictures, Scott Free Productions, Dr...</td>\n",
       "      <td>Dolby Stereo, DTS, SDDS, Dolby EX, Surround, D...</td>\n",
       "      <td>Scope (2.35:1)</td>\n",
       "      <td>NaN</td>\n",
       "    </tr>\n",
       "  </tbody>\n",
       "</table>\n",
       "</div>"
      ],
      "text/plain": [
       "                                               title         id Tomatometer  \\\n",
       "0                             The Dark Knight (2008)  tt0468569          94   \n",
       "1  The Lord of the Rings: The Fellowship of the R...  tt0120737          91   \n",
       "2                                   Inception (2010)  tt1375666          87   \n",
       "3  The Lord of the Rings: The Return of the King ...  tt0167260          94   \n",
       "4                                   Gladiator (2000)  tt0172495          79   \n",
       "\n",
       "  Audience Score                                             Rating  \\\n",
       "0             94  PG-13 (Some Menace|Intense Sequences of Violence)   \n",
       "1             95    PG-13 (Some Scary Images|Epic Battle Sequences)   \n",
       "2             91  PG-13 (Sequences of Violence|Sequences of Action)   \n",
       "3             86  PG-13 (Intense Epic Battle Sequences|Frighteni...   \n",
       "4             87                         R (Intense Graphic Combat)   \n",
       "\n",
       "                                Genre Original Language           Director  \\\n",
       "0          Action, Adventure, Fantasy           English  Christopher Nolan   \n",
       "1                  Fantasy, Adventure           English      Peter Jackson   \n",
       "2  Sci-fi, Mystery & thriller, Action           English  Christopher Nolan   \n",
       "3                  Fantasy, Adventure           English      Peter Jackson   \n",
       "4   History, Drama, Adventure, Action           English       Ridley Scott   \n",
       "\n",
       "                                            Producer  \\\n",
       "0      Emma Thomas, Charles Roven, Christopher Nolan   \n",
       "1  Peter Jackson, Barrie M. Osborne, Fran Walsh, ...   \n",
       "2                     Christopher Nolan, Emma Thomas   \n",
       "3                      Barrie M. Osborne, Fran Walsh   \n",
       "4        David Franzoni, Branko Lustig, Douglas Wick   \n",
       "\n",
       "                                              Writer Release Date (Theaters)  \\\n",
       "0                  Jonathan Nolan, Christopher Nolan      Jul 18, 2008  Wide   \n",
       "1  Peter Jackson, Fran Walsh, Philippa Boyens, J....      Dec 19, 2001  Wide   \n",
       "2                                  Christopher Nolan      Jul 16, 2010  Wide   \n",
       "3         Peter Jackson, Philippa Boyens, Fran Walsh      Dec 17, 2003  Wide   \n",
       "4  David Franzoni, John Logan, William Nicholson,...       May 5, 2000  Wide   \n",
       "\n",
       "  Rerelease Date (Theaters) Release Date (Streaming) Box Office (Gross USA)  \\\n",
       "0              Sep 15, 2023             Jun 14, 2010                  $2.0M   \n",
       "1                       NaN             Jun 28, 2011                $315.5M   \n",
       "2              Jul 31, 2020             Jun 20, 2013                $292.6M   \n",
       "3                       NaN              Apr 6, 2010                $377.8M   \n",
       "4                       NaN             Jun 15, 2011                $187.7M   \n",
       "\n",
       "  Runtime                                        Distributor  \\\n",
       "0  2h 32m                              Warner Bros. Pictures   \n",
       "1  2h 58m  New Line Cinema, FS Film Oy, Argentina Video H...   \n",
       "2  2h 28m                              Warner Bros. Pictures   \n",
       "3  3h 20m                                    New Line Cinema   \n",
       "4  2h 34m                 Universal Pictures, DreamWorks SKG   \n",
       "\n",
       "                                       Production Co  \\\n",
       "0     Syncopy, Legendary Entertainment, Warner Bros.   \n",
       "1  New Line Cinema, WingNut Films, Saul Zaentz Co...   \n",
       "2                              Syncopy, Warner Bros.   \n",
       "3               New Line Cinema, Saul Zaentz Company   \n",
       "4  Universal Pictures, Scott Free Productions, Dr...   \n",
       "\n",
       "                                           Sound Mix    Aspect Ratio  \\\n",
       "0                           DTS, Dolby Digital, SDDS  Scope (2.35:1)   \n",
       "1  Dolby SR, DTS, Dolby Stereo, Surround, SDDS, D...  Scope (2.35:1)   \n",
       "2                           DTS, Dolby Digital, SDDS  Scope (2.35:1)   \n",
       "3  Dolby Stereo, Dolby A, Surround, Dolby Digital...  Scope (2.35:1)   \n",
       "4  Dolby Stereo, DTS, SDDS, Dolby EX, Surround, D...  Scope (2.35:1)   \n",
       "\n",
       "  View the collection  \n",
       "0              Batman  \n",
       "1   Lord of The Rings  \n",
       "2                 NaN  \n",
       "3   Lord of The Rings  \n",
       "4                 NaN  "
      ]
     },
     "execution_count": 3,
     "metadata": {},
     "output_type": "execute_result"
    }
   ],
   "source": [
    "df1.head()"
   ]
  },
  {
   "cell_type": "code",
   "execution_count": 4,
   "id": "c738dd03-44e2-4082-87c7-225b895e22d6",
   "metadata": {},
   "outputs": [
    {
     "data": {
      "text/plain": [
       "Index(['title', 'id', 'Tomatometer', 'Audience Score', 'Rating', 'Genre',\n",
       "       'Original Language', 'Director', 'Producer', 'Writer',\n",
       "       'Release Date (Theaters)', 'Rerelease Date (Theaters)',\n",
       "       'Release Date (Streaming)', 'Box Office (Gross USA)', 'Runtime',\n",
       "       'Distributor', 'Production Co', 'Sound Mix', 'Aspect Ratio',\n",
       "       'View the collection'],\n",
       "      dtype='object')"
      ]
     },
     "execution_count": 4,
     "metadata": {},
     "output_type": "execute_result"
    }
   ],
   "source": [
    "df1.columns"
   ]
  },
  {
   "cell_type": "code",
   "execution_count": 5,
   "id": "26c2d5b1-e2d3-4e0c-8c2d-8803257a1fb1",
   "metadata": {},
   "outputs": [
    {
     "data": {
      "text/plain": [
       "(40580, 20)"
      ]
     },
     "execution_count": 5,
     "metadata": {},
     "output_type": "execute_result"
    }
   ],
   "source": [
    "df1.shape"
   ]
  },
  {
   "cell_type": "code",
   "execution_count": 6,
   "id": "0b20c8ce-7f5d-4fb4-a4ea-2bf4b2fe58bb",
   "metadata": {},
   "outputs": [
    {
     "data": {
      "text/plain": [
       "23953"
      ]
     },
     "execution_count": 6,
     "metadata": {},
     "output_type": "execute_result"
    }
   ],
   "source": [
    "df1['Tomatometer'].isna().sum()"
   ]
  },
  {
   "cell_type": "code",
   "execution_count": 7,
   "id": "650acd61-252f-4ae0-bb59-640110b28a52",
   "metadata": {},
   "outputs": [
    {
     "data": {
      "text/plain": [
       "14064"
      ]
     },
     "execution_count": 7,
     "metadata": {},
     "output_type": "execute_result"
    }
   ],
   "source": [
    "df1['Audience Score'].isna().sum()"
   ]
  },
  {
   "cell_type": "code",
   "execution_count": 8,
   "id": "d6996433-3191-4b7f-8d5a-65dc8b4e8216",
   "metadata": {},
   "outputs": [],
   "source": [
    "df2 = pd.read_csv(\"/Users/drew/data science club project/data_042624.csv\", low_memory=False)"
   ]
  },
  {
   "cell_type": "code",
   "execution_count": 9,
   "id": "2855925c-2ff8-4d42-9bcb-e2e926745cf1",
   "metadata": {},
   "outputs": [],
   "source": [
    "df1.rename(columns={'id':'titleId'},inplace=True)"
   ]
  },
  {
   "cell_type": "code",
   "execution_count": 10,
   "id": "62918df8-a59d-4806-9072-6e8b665e47b6",
   "metadata": {},
   "outputs": [
    {
     "data": {
      "text/plain": [
       "Index(['title', 'titleId', 'Tomatometer', 'Audience Score', 'Rating', 'Genre',\n",
       "       'Original Language', 'Director', 'Producer', 'Writer',\n",
       "       'Release Date (Theaters)', 'Rerelease Date (Theaters)',\n",
       "       'Release Date (Streaming)', 'Box Office (Gross USA)', 'Runtime',\n",
       "       'Distributor', 'Production Co', 'Sound Mix', 'Aspect Ratio',\n",
       "       'View the collection'],\n",
       "      dtype='object')"
      ]
     },
     "execution_count": 10,
     "metadata": {},
     "output_type": "execute_result"
    }
   ],
   "source": [
    "df1.columns"
   ]
  },
  {
   "cell_type": "code",
   "execution_count": 21,
   "id": "e3946cab-0854-41e7-aaad-7519e08d9ea0",
   "metadata": {},
   "outputs": [],
   "source": [
    "df3=df1[pd.notna(df1['Audience Score'])]"
   ]
  },
  {
   "cell_type": "code",
   "execution_count": 20,
   "id": "0cfa3f62-2fb6-484e-bad3-aca48a2e0ef9",
   "metadata": {},
   "outputs": [
    {
     "data": {
      "text/plain": [
       "14064"
      ]
     },
     "execution_count": 20,
     "metadata": {},
     "output_type": "execute_result"
    }
   ],
   "source": [
    "df1['Audience Score'].isna().sum()"
   ]
  },
  {
   "cell_type": "code",
   "execution_count": 18,
   "id": "dc112df7-4802-45fa-b2e4-8609fbe22c0e",
   "metadata": {},
   "outputs": [
    {
     "data": {
      "text/plain": [
       "(40580, 20)"
      ]
     },
     "execution_count": 18,
     "metadata": {},
     "output_type": "execute_result"
    }
   ],
   "source": [
    "df1.shape"
   ]
  },
  {
   "cell_type": "code",
   "execution_count": 22,
   "id": "b4410deb-4939-4739-8f72-d760ca12629a",
   "metadata": {},
   "outputs": [
    {
     "data": {
      "text/plain": [
       "(26516, 20)"
      ]
     },
     "execution_count": 22,
     "metadata": {},
     "output_type": "execute_result"
    }
   ],
   "source": [
    "df3.shape"
   ]
  },
  {
   "cell_type": "code",
   "execution_count": 23,
   "id": "ae36021a-a662-4130-be39-a64e5111d034",
   "metadata": {},
   "outputs": [],
   "source": [
    "merged_df = pd.merge(df3, df2, on='titleId', how='inner')"
   ]
  },
  {
   "cell_type": "code",
   "execution_count": 24,
   "id": "321128c2-2e92-4e63-b6f8-9a36c3b66bdf",
   "metadata": {},
   "outputs": [
    {
     "data": {
      "text/html": [
       "<div>\n",
       "<style scoped>\n",
       "    .dataframe tbody tr th:only-of-type {\n",
       "        vertical-align: middle;\n",
       "    }\n",
       "\n",
       "    .dataframe tbody tr th {\n",
       "        vertical-align: top;\n",
       "    }\n",
       "\n",
       "    .dataframe thead th {\n",
       "        text-align: right;\n",
       "    }\n",
       "</style>\n",
       "<table border=\"1\" class=\"dataframe\">\n",
       "  <thead>\n",
       "    <tr style=\"text-align: right;\">\n",
       "      <th></th>\n",
       "      <th>title</th>\n",
       "      <th>titleId</th>\n",
       "      <th>Tomatometer</th>\n",
       "      <th>Audience Score</th>\n",
       "      <th>Rating</th>\n",
       "      <th>Genre</th>\n",
       "      <th>Original Language</th>\n",
       "      <th>Director</th>\n",
       "      <th>Producer</th>\n",
       "      <th>Writer</th>\n",
       "      <th>...</th>\n",
       "      <th>no of distributors</th>\n",
       "      <th>cast</th>\n",
       "      <th>director</th>\n",
       "      <th>cinematographer</th>\n",
       "      <th>writer</th>\n",
       "      <th>composer</th>\n",
       "      <th>producer</th>\n",
       "      <th>production company</th>\n",
       "      <th>distributor</th>\n",
       "      <th>year</th>\n",
       "    </tr>\n",
       "  </thead>\n",
       "  <tbody>\n",
       "    <tr>\n",
       "      <th>0</th>\n",
       "      <td>The Dark Knight (2008)</td>\n",
       "      <td>tt0468569</td>\n",
       "      <td>94</td>\n",
       "      <td>94</td>\n",
       "      <td>PG-13 (Some Menace|Intense Sequences of Violence)</td>\n",
       "      <td>Action, Adventure, Fantasy</td>\n",
       "      <td>English</td>\n",
       "      <td>Christopher Nolan</td>\n",
       "      <td>Emma Thomas, Charles Roven, Christopher Nolan</td>\n",
       "      <td>Jonathan Nolan, Christopher Nolan</td>\n",
       "      <td>...</td>\n",
       "      <td>45</td>\n",
       "      <td>cast: Christian Bale,Heath Ledger,Aaron Eckhar...</td>\n",
       "      <td>directors: Christopher Nolan</td>\n",
       "      <td>cinematographers: Wally Pfister</td>\n",
       "      <td>writers: Jonathan Nolan,Christopher Nolan,None...</td>\n",
       "      <td>composers: James Newton Howard,Hans Zimmer</td>\n",
       "      <td>producers: Kevin de la Noy,Jordan Goldberg,Phi...</td>\n",
       "      <td>production companies: DC Comics,Legendary Ente...</td>\n",
       "      <td>distributors: 9Go!,Alexandra Films,Amazon Prim...</td>\n",
       "      <td>2008</td>\n",
       "    </tr>\n",
       "    <tr>\n",
       "      <th>1</th>\n",
       "      <td>The Lord of the Rings: The Fellowship of the R...</td>\n",
       "      <td>tt0120737</td>\n",
       "      <td>91</td>\n",
       "      <td>95</td>\n",
       "      <td>PG-13 (Some Scary Images|Epic Battle Sequences)</td>\n",
       "      <td>Fantasy, Adventure</td>\n",
       "      <td>English</td>\n",
       "      <td>Peter Jackson</td>\n",
       "      <td>Peter Jackson, Barrie M. Osborne, Fran Walsh, ...</td>\n",
       "      <td>Peter Jackson, Fran Walsh, Philippa Boyens, J....</td>\n",
       "      <td>...</td>\n",
       "      <td>52</td>\n",
       "      <td>cast: Alan Howard,Noel Appleby,Sean Astin,Sala...</td>\n",
       "      <td>directors: Peter Jackson</td>\n",
       "      <td>cinematographers: Andrew Lesnie</td>\n",
       "      <td>writers: J.R.R. Tolkien,None,Fran Walsh,Philip...</td>\n",
       "      <td>composers: Howard Shore</td>\n",
       "      <td>producers: Peter Jackson,Michael Lynne,Mark Or...</td>\n",
       "      <td>production companies: Marzano Films,New Line C...</td>\n",
       "      <td>distributors: 7flix,9Go!,A-Film Distribution,A...</td>\n",
       "      <td>2001</td>\n",
       "    </tr>\n",
       "    <tr>\n",
       "      <th>2</th>\n",
       "      <td>Inception (2010)</td>\n",
       "      <td>tt1375666</td>\n",
       "      <td>87</td>\n",
       "      <td>91</td>\n",
       "      <td>PG-13 (Sequences of Violence|Sequences of Action)</td>\n",
       "      <td>Sci-fi, Mystery &amp; thriller, Action</td>\n",
       "      <td>English</td>\n",
       "      <td>Christopher Nolan</td>\n",
       "      <td>Christopher Nolan, Emma Thomas</td>\n",
       "      <td>Christopher Nolan</td>\n",
       "      <td>...</td>\n",
       "      <td>32</td>\n",
       "      <td>cast: Leonardo DiCaprio,Joseph Gordon-Levitt,E...</td>\n",
       "      <td>directors: Christopher Nolan</td>\n",
       "      <td>cinematographers: Wally Pfister</td>\n",
       "      <td>writers: Christopher Nolan</td>\n",
       "      <td>composers: Hans Zimmer</td>\n",
       "      <td>producers: Zakaria Alaoui,John Bernard,Chris B...</td>\n",
       "      <td>production companies: Legendary Entertainment,...</td>\n",
       "      <td>distributors: 9Go!,Alexandra Films,Amazon Prim...</td>\n",
       "      <td>2010</td>\n",
       "    </tr>\n",
       "    <tr>\n",
       "      <th>3</th>\n",
       "      <td>The Lord of the Rings: The Return of the King ...</td>\n",
       "      <td>tt0167260</td>\n",
       "      <td>94</td>\n",
       "      <td>86</td>\n",
       "      <td>PG-13 (Intense Epic Battle Sequences|Frighteni...</td>\n",
       "      <td>Fantasy, Adventure</td>\n",
       "      <td>English</td>\n",
       "      <td>Peter Jackson</td>\n",
       "      <td>Barrie M. Osborne, Fran Walsh</td>\n",
       "      <td>Peter Jackson, Philippa Boyens, Fran Walsh</td>\n",
       "      <td>...</td>\n",
       "      <td>50</td>\n",
       "      <td>cast: Noel Appleby,Ali Astin,Sean Astin,David ...</td>\n",
       "      <td>directors: Peter Jackson</td>\n",
       "      <td>cinematographers: Andrew Lesnie</td>\n",
       "      <td>writers: J.R.R. Tolkien,None,Fran Walsh,Philip...</td>\n",
       "      <td>composers: Howard Shore</td>\n",
       "      <td>producers: Peter Jackson,Michael Lynne,Eric Mo...</td>\n",
       "      <td>production companies: New Line Cinema,The Saul...</td>\n",
       "      <td>distributors: 7flix,A-Film Distribution,A-Film...</td>\n",
       "      <td>2003</td>\n",
       "    </tr>\n",
       "    <tr>\n",
       "      <th>4</th>\n",
       "      <td>Gladiator (2000)</td>\n",
       "      <td>tt0172495</td>\n",
       "      <td>79</td>\n",
       "      <td>87</td>\n",
       "      <td>R (Intense Graphic Combat)</td>\n",
       "      <td>History, Drama, Adventure, Action</td>\n",
       "      <td>English</td>\n",
       "      <td>Ridley Scott</td>\n",
       "      <td>David Franzoni, Branko Lustig, Douglas Wick</td>\n",
       "      <td>David Franzoni, John Logan, William Nicholson,...</td>\n",
       "      <td>...</td>\n",
       "      <td>51</td>\n",
       "      <td>cast: Russell Crowe,Joaquin Phoenix,Connie Nie...</td>\n",
       "      <td>directors: Ridley Scott</td>\n",
       "      <td>cinematographers: John Mathieson</td>\n",
       "      <td>writers: David Franzoni,None,David Franzoni,Jo...</td>\n",
       "      <td>composers: Lisa Gerrard,Hans Zimmer</td>\n",
       "      <td>producers: David Franzoni,Branko Lustig,Laurie...</td>\n",
       "      <td>production companies: C &amp; L,Dawliz,Dreamworks ...</td>\n",
       "      <td>distributors: AVA,American Broadcasting Compan...</td>\n",
       "      <td>2000</td>\n",
       "    </tr>\n",
       "  </tbody>\n",
       "</table>\n",
       "<p>5 rows × 48 columns</p>\n",
       "</div>"
      ],
      "text/plain": [
       "                                               title    titleId Tomatometer  \\\n",
       "0                             The Dark Knight (2008)  tt0468569          94   \n",
       "1  The Lord of the Rings: The Fellowship of the R...  tt0120737          91   \n",
       "2                                   Inception (2010)  tt1375666          87   \n",
       "3  The Lord of the Rings: The Return of the King ...  tt0167260          94   \n",
       "4                                   Gladiator (2000)  tt0172495          79   \n",
       "\n",
       "  Audience Score                                             Rating  \\\n",
       "0             94  PG-13 (Some Menace|Intense Sequences of Violence)   \n",
       "1             95    PG-13 (Some Scary Images|Epic Battle Sequences)   \n",
       "2             91  PG-13 (Sequences of Violence|Sequences of Action)   \n",
       "3             86  PG-13 (Intense Epic Battle Sequences|Frighteni...   \n",
       "4             87                         R (Intense Graphic Combat)   \n",
       "\n",
       "                                Genre Original Language           Director  \\\n",
       "0          Action, Adventure, Fantasy           English  Christopher Nolan   \n",
       "1                  Fantasy, Adventure           English      Peter Jackson   \n",
       "2  Sci-fi, Mystery & thriller, Action           English  Christopher Nolan   \n",
       "3                  Fantasy, Adventure           English      Peter Jackson   \n",
       "4   History, Drama, Adventure, Action           English       Ridley Scott   \n",
       "\n",
       "                                            Producer  \\\n",
       "0      Emma Thomas, Charles Roven, Christopher Nolan   \n",
       "1  Peter Jackson, Barrie M. Osborne, Fran Walsh, ...   \n",
       "2                     Christopher Nolan, Emma Thomas   \n",
       "3                      Barrie M. Osborne, Fran Walsh   \n",
       "4        David Franzoni, Branko Lustig, Douglas Wick   \n",
       "\n",
       "                                              Writer  ... no of distributors  \\\n",
       "0                  Jonathan Nolan, Christopher Nolan  ...                 45   \n",
       "1  Peter Jackson, Fran Walsh, Philippa Boyens, J....  ...                 52   \n",
       "2                                  Christopher Nolan  ...                 32   \n",
       "3         Peter Jackson, Philippa Boyens, Fran Walsh  ...                 50   \n",
       "4  David Franzoni, John Logan, William Nicholson,...  ...                 51   \n",
       "\n",
       "                                                cast  \\\n",
       "0  cast: Christian Bale,Heath Ledger,Aaron Eckhar...   \n",
       "1  cast: Alan Howard,Noel Appleby,Sean Astin,Sala...   \n",
       "2  cast: Leonardo DiCaprio,Joseph Gordon-Levitt,E...   \n",
       "3  cast: Noel Appleby,Ali Astin,Sean Astin,David ...   \n",
       "4  cast: Russell Crowe,Joaquin Phoenix,Connie Nie...   \n",
       "\n",
       "                       director                   cinematographer  \\\n",
       "0  directors: Christopher Nolan   cinematographers: Wally Pfister   \n",
       "1      directors: Peter Jackson   cinematographers: Andrew Lesnie   \n",
       "2  directors: Christopher Nolan   cinematographers: Wally Pfister   \n",
       "3      directors: Peter Jackson   cinematographers: Andrew Lesnie   \n",
       "4       directors: Ridley Scott  cinematographers: John Mathieson   \n",
       "\n",
       "                                              writer  \\\n",
       "0  writers: Jonathan Nolan,Christopher Nolan,None...   \n",
       "1  writers: J.R.R. Tolkien,None,Fran Walsh,Philip...   \n",
       "2                         writers: Christopher Nolan   \n",
       "3  writers: J.R.R. Tolkien,None,Fran Walsh,Philip...   \n",
       "4  writers: David Franzoni,None,David Franzoni,Jo...   \n",
       "\n",
       "                                     composer  \\\n",
       "0  composers: James Newton Howard,Hans Zimmer   \n",
       "1                     composers: Howard Shore   \n",
       "2                      composers: Hans Zimmer   \n",
       "3                     composers: Howard Shore   \n",
       "4         composers: Lisa Gerrard,Hans Zimmer   \n",
       "\n",
       "                                            producer  \\\n",
       "0  producers: Kevin de la Noy,Jordan Goldberg,Phi...   \n",
       "1  producers: Peter Jackson,Michael Lynne,Mark Or...   \n",
       "2  producers: Zakaria Alaoui,John Bernard,Chris B...   \n",
       "3  producers: Peter Jackson,Michael Lynne,Eric Mo...   \n",
       "4  producers: David Franzoni,Branko Lustig,Laurie...   \n",
       "\n",
       "                                  production company  \\\n",
       "0  production companies: DC Comics,Legendary Ente...   \n",
       "1  production companies: Marzano Films,New Line C...   \n",
       "2  production companies: Legendary Entertainment,...   \n",
       "3  production companies: New Line Cinema,The Saul...   \n",
       "4  production companies: C & L,Dawliz,Dreamworks ...   \n",
       "\n",
       "                                         distributor  year  \n",
       "0  distributors: 9Go!,Alexandra Films,Amazon Prim...  2008  \n",
       "1  distributors: 7flix,9Go!,A-Film Distribution,A...  2001  \n",
       "2  distributors: 9Go!,Alexandra Films,Amazon Prim...  2010  \n",
       "3  distributors: 7flix,A-Film Distribution,A-Film...  2003  \n",
       "4  distributors: AVA,American Broadcasting Compan...  2000  \n",
       "\n",
       "[5 rows x 48 columns]"
      ]
     },
     "execution_count": 24,
     "metadata": {},
     "output_type": "execute_result"
    }
   ],
   "source": [
    "merged_df.head()"
   ]
  },
  {
   "cell_type": "code",
   "execution_count": 15,
   "id": "6e09904b-e23b-491e-9f38-37fb774d2b6e",
   "metadata": {},
   "outputs": [
    {
     "data": {
      "text/plain": [
       "Index(['title', 'titleId', 'Tomatometer', 'Audience Score', 'Rating', 'Genre',\n",
       "       'Original Language', 'Director', 'Producer', 'Writer',\n",
       "       'Release Date (Theaters)', 'Rerelease Date (Theaters)',\n",
       "       'Release Date (Streaming)', 'Box Office (Gross USA)', 'Runtime',\n",
       "       'Distributor', 'Production Co', 'Sound Mix', 'Aspect Ratio',\n",
       "       'View the collection', 'imdb score', 'numVotes imdb', 'primaryTitle',\n",
       "       'originalTitle', 'runtimeMinutes', 'genres', 'release date',\n",
       "       'cover url', 'videos', 'plot outline', 'languages', 'no of cast',\n",
       "       'no of writers', 'no of directors', 'no of composers',\n",
       "       'no of producers', 'no of cinematographers',\n",
       "       'no of production companies', 'no of distributors', 'cast', 'director',\n",
       "       'cinematographer', 'writer', 'composer', 'producer',\n",
       "       'production company', 'distributor', 'year'],\n",
       "      dtype='object')"
      ]
     },
     "execution_count": 15,
     "metadata": {},
     "output_type": "execute_result"
    }
   ],
   "source": [
    "merged_df.columns"
   ]
  },
  {
   "cell_type": "code",
   "execution_count": 25,
   "id": "c0e6c933-5194-4b5f-861a-1b325d5b2417",
   "metadata": {},
   "outputs": [
    {
     "data": {
      "text/plain": [
       "(26515, 48)"
      ]
     },
     "execution_count": 25,
     "metadata": {},
     "output_type": "execute_result"
    }
   ],
   "source": [
    "merged_df.shape"
   ]
  },
  {
   "cell_type": "code",
   "execution_count": 26,
   "id": "4648ef48-2b51-4636-8d68-8692f3804b39",
   "metadata": {},
   "outputs": [
    {
     "data": {
      "text/plain": [
       "11069"
      ]
     },
     "execution_count": 26,
     "metadata": {},
     "output_type": "execute_result"
    }
   ],
   "source": [
    "merged_df['Tomatometer'].isna().sum()"
   ]
  },
  {
   "cell_type": "code",
   "execution_count": 29,
   "id": "11690b0c-d1e0-4cc9-be57-903f6a86d555",
   "metadata": {},
   "outputs": [],
   "source": [
    "df5=merged_df[['titleId','Audience Score']]"
   ]
  },
  {
   "cell_type": "code",
   "execution_count": 17,
   "id": "f2d3c26e-d133-40d5-9ce2-3483bca8bf5f",
   "metadata": {},
   "outputs": [
    {
     "data": {
      "text/plain": [
       "(40580, 20)"
      ]
     },
     "execution_count": 17,
     "metadata": {},
     "output_type": "execute_result"
    }
   ],
   "source": [
    "df1.shape"
   ]
  },
  {
   "cell_type": "code",
   "execution_count": 30,
   "id": "061bb16a-9082-4384-bad9-1d519165e2ae",
   "metadata": {},
   "outputs": [
    {
     "data": {
      "text/plain": [
       "(26515, 2)"
      ]
     },
     "execution_count": 30,
     "metadata": {},
     "output_type": "execute_result"
    }
   ],
   "source": [
    "df5.shape"
   ]
  },
  {
   "cell_type": "code",
   "execution_count": 31,
   "id": "8c479cc7-ad99-4542-a2b7-6fb38ee96e32",
   "metadata": {},
   "outputs": [],
   "source": [
    "df5.to_csv(\"/Users/drew/data science club project/data/rotten_tomato_scores.csv\", index=False)"
   ]
  },
  {
   "cell_type": "code",
   "execution_count": null,
   "id": "b0516ccd-48c4-4bbc-8310-5acbf557d0d3",
   "metadata": {},
   "outputs": [],
   "source": []
  }
 ],
 "metadata": {
  "kernelspec": {
   "display_name": "Python 3 (ipykernel)",
   "language": "python",
   "name": "python3"
  },
  "language_info": {
   "codemirror_mode": {
    "name": "ipython",
    "version": 3
   },
   "file_extension": ".py",
   "mimetype": "text/x-python",
   "name": "python",
   "nbconvert_exporter": "python",
   "pygments_lexer": "ipython3",
   "version": "3.11.4"
  }
 },
 "nbformat": 4,
 "nbformat_minor": 5
}

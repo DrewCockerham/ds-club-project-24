{
 "cells": [
  {
   "cell_type": "code",
   "execution_count": 1,
   "id": "317fa90a-52ed-43e7-99c4-78672ac188b7",
   "metadata": {},
   "outputs": [
    {
     "name": "stderr",
     "output_type": "stream",
     "text": [
      "/var/folders/t1/8mb76jdj5yq__c510cnxz6000000gn/T/ipykernel_36071/4080736814.py:1: DeprecationWarning: \n",
      "Pyarrow will become a required dependency of pandas in the next major release of pandas (pandas 3.0),\n",
      "(to allow more performant data types, such as the Arrow string type, and better interoperability with other libraries)\n",
      "but was not found to be installed on your system.\n",
      "If this would cause problems for you,\n",
      "please provide us feedback at https://github.com/pandas-dev/pandas/issues/54466\n",
      "        \n",
      "  import pandas as pd\n"
     ]
    }
   ],
   "source": [
    "import pandas as pd"
   ]
  },
  {
   "cell_type": "code",
   "execution_count": 2,
   "id": "8e2ba66f-263b-43fd-8e8f-0a883dad99f0",
   "metadata": {},
   "outputs": [],
   "source": [
    "df1 = pd.read_csv(\"/Users/drew/data science club project/data_042424.csv\", low_memory=False)"
   ]
  },
  {
   "cell_type": "code",
   "execution_count": 3,
   "id": "4b116e37-89fb-42db-9e90-20854127b9db",
   "metadata": {},
   "outputs": [
    {
     "name": "stderr",
     "output_type": "stream",
     "text": [
      "/Library/Frameworks/Python.framework/Versions/3.11/lib/python3.11/site-packages/tqdm/auto.py:21: TqdmWarning: IProgress not found. Please update jupyter and ipywidgets. See https://ipywidgets.readthedocs.io/en/stable/user_install.html\n",
      "  from .autonotebook import tqdm as notebook_tqdm\n"
     ]
    }
   ],
   "source": [
    "from sentence_transformers import SentenceTransformer\n",
    "\n",
    "model = SentenceTransformer(\"sentence-transformers/all-MiniLM-L6-v2\")"
   ]
  },
  {
   "cell_type": "code",
   "execution_count": 4,
   "id": "92933cd2-5656-4514-8b52-b1ac1e3870bd",
   "metadata": {},
   "outputs": [],
   "source": [
    "# Import necessary libraries\n",
    "from sklearn import datasets  # to retrieve the iris Dataset\n",
    "import pandas as pd  # to load the dataframe\n",
    "from sklearn.preprocessing import StandardScaler  # to standardize the features\n",
    "from sklearn.decomposition import PCA  # to apply PCA\n",
    "import seaborn as sns  # to plot the heat maps"
   ]
  },
  {
   "cell_type": "code",
   "execution_count": 5,
   "id": "d35fc84f-0d73-4d00-9271-58a42b6653a1",
   "metadata": {},
   "outputs": [],
   "source": [
    "cast_list=[]\n",
    "distributor_list=[]\n",
    "cinematographer_list=[]\n",
    "director_list=[]\n",
    "writer_list=[]\n",
    "producer_list=[]\n",
    "production_company_list=[]\n",
    "composer_list=[]"
   ]
  },
  {
   "cell_type": "code",
   "execution_count": 6,
   "id": "a01bcfed-b3a8-4dfd-8af7-38a7552c78a1",
   "metadata": {},
   "outputs": [
    {
     "data": {
      "text/plain": [
       "0"
      ]
     },
     "execution_count": 6,
     "metadata": {},
     "output_type": "execute_result"
    }
   ],
   "source": [
    "len(cast_list)"
   ]
  },
  {
   "cell_type": "code",
   "execution_count": 7,
   "id": "f49bfdae-c1c9-48fe-b8b5-03f72d049d59",
   "metadata": {},
   "outputs": [],
   "source": [
    "for i in range(0,len(df1)):\n",
    "    cast_list.append(df1.loc[i,'cast'])"
   ]
  },
  {
   "cell_type": "code",
   "execution_count": 8,
   "id": "c8e41a94-4640-404a-8968-e8e6ba03d352",
   "metadata": {},
   "outputs": [],
   "source": [
    "for i in range(0,len(df1)):\n",
    "    distributor_list.append(df1.loc[i,'distributor'])"
   ]
  },
  {
   "cell_type": "code",
   "execution_count": 9,
   "id": "4cc4de3b-b986-4e86-8f83-c0a0c36f6830",
   "metadata": {},
   "outputs": [],
   "source": [
    "for i in range(0,len(df1)):\n",
    "    writer_list.append(df1.loc[i,'writer'])\n",
    "for i in range(0,len(df1)):\n",
    "    production_company_list.append(df1.loc[i,'production company'])\n",
    "for i in range(0,len(df1)):\n",
    "    director_list.append(df1.loc[i,'director'])\n",
    "for i in range(0,len(df1)):\n",
    "    composer_list.append(df1.loc[i,'composer'])\n",
    "for i in range(0,len(df1)):\n",
    "    producer_list.append(df1.loc[i,'producer'])\n",
    "for i in range(0,len(df1)):\n",
    "    cinematographer_list.append(df1.loc[i,'cinematographer'])"
   ]
  },
  {
   "cell_type": "code",
   "execution_count": 10,
   "id": "c5bf4da4-3565-4ae6-bcfc-0b1a61ba8853",
   "metadata": {},
   "outputs": [],
   "source": [
    "#cast_embeddings = model.encode(cast_list)"
   ]
  },
  {
   "cell_type": "code",
   "execution_count": 11,
   "id": "4a5111c1-bdcc-4722-9257-249c9603848b",
   "metadata": {},
   "outputs": [],
   "source": [
    "#distributor_embeddings=model.encode(distributor_list)"
   ]
  },
  {
   "cell_type": "code",
   "execution_count": 12,
   "id": "a0cc8708-f504-4a67-b354-42323e60ccd9",
   "metadata": {},
   "outputs": [],
   "source": [
    "#cast_df = pd.DataFrame(cast_embeddings)"
   ]
  },
  {
   "cell_type": "code",
   "execution_count": 13,
   "id": "a9653ea0-5e30-4f86-b556-3844562b6e75",
   "metadata": {},
   "outputs": [],
   "source": [
    "#distributor_df=pd.DataFrame(distributor_embeddings)"
   ]
  },
  {
   "cell_type": "code",
   "execution_count": 14,
   "id": "d47a6d78-0b83-42fb-8226-a895b9132d87",
   "metadata": {},
   "outputs": [],
   "source": [
    "#cast_df.to_csv(\"/Users/drew/data science club project/embeddings/cast_embeddings_042424.csv\", index=False)"
   ]
  },
  {
   "cell_type": "code",
   "execution_count": 15,
   "id": "0d0e1e9d-3904-4ccb-b5fc-3dac228464d3",
   "metadata": {},
   "outputs": [],
   "source": [
    "#distributor_df.to_csv(\"/Users/drew/data science club project/embeddings/distributor_embeddings_042424.csv\", index=False)"
   ]
  },
  {
   "cell_type": "code",
   "execution_count": 16,
   "id": "d8a8e6ea-6201-4c2a-87aa-638decff9553",
   "metadata": {},
   "outputs": [],
   "source": [
    "# director_embeddings = model.encode(director_list)"
   ]
  },
  {
   "cell_type": "code",
   "execution_count": 17,
   "id": "fba949e6-cdda-4cf4-b4f4-90c342b3874a",
   "metadata": {},
   "outputs": [],
   "source": [
    "# writer_embeddings = model.encode(writer_list)"
   ]
  },
  {
   "cell_type": "code",
   "execution_count": 18,
   "id": "ab6e0c9f-945d-4d5e-af96-e23761e90d2a",
   "metadata": {},
   "outputs": [],
   "source": [
    "# director_df = pd.DataFrame(director_embeddings)\n",
    "# writer_df = pd.DataFrame(writer_embeddings)\n",
    "# director_df.to_csv(\"/Users/drew/data science club project/embeddings/director_embeddings_042424.csv\", index=False)\n",
    "# writer_df.to_csv(\"/Users/drew/data science club project/embeddings/writer_embeddings_042424.csv\", index=False)"
   ]
  },
  {
   "cell_type": "code",
   "execution_count": 19,
   "id": "602185e4-89bf-4bea-bb99-a2108a2aad2b",
   "metadata": {},
   "outputs": [],
   "source": [
    "producer_embeddings = model.encode(producer_list)"
   ]
  },
  {
   "cell_type": "code",
   "execution_count": 20,
   "id": "34607e92-b6e5-45c6-b38f-d8507f85e219",
   "metadata": {},
   "outputs": [],
   "source": [
    "cinematographer_embeddings = model.encode(cinematographer_list)"
   ]
  },
  {
   "cell_type": "code",
   "execution_count": 21,
   "id": "c1eb8b72-9ef9-461b-a2c5-c64a2738b197",
   "metadata": {},
   "outputs": [],
   "source": [
    "producer_df = pd.DataFrame(producer_embeddings)\n",
    "cinematographer_df = pd.DataFrame(cinematographer_embeddings)\n",
    "producer_df.to_csv(\"/Users/drew/data science club project/embeddings/producer_embeddings_042424.csv\", index=False)\n",
    "cinematographer_df.to_csv(\"/Users/drew/data science club project/embeddings/cinematographer_embeddings_042424.csv\", index=False)"
   ]
  },
  {
   "cell_type": "code",
   "execution_count": 22,
   "id": "3e6d8652-f047-4ffa-a0f5-1432fe21e4d6",
   "metadata": {},
   "outputs": [],
   "source": [
    "production_company_embeddings = model.encode(production_company_list)"
   ]
  },
  {
   "cell_type": "code",
   "execution_count": 23,
   "id": "96d2f846-e1ed-421a-931b-6833790aa7b9",
   "metadata": {},
   "outputs": [],
   "source": [
    "composer_embeddings = model.encode(composer_list)"
   ]
  },
  {
   "cell_type": "code",
   "execution_count": 24,
   "id": "0c76c9f3-dd88-412a-a58f-b65659657792",
   "metadata": {},
   "outputs": [],
   "source": [
    "production_company_df = pd.DataFrame(production_company_embeddings)\n",
    "composer_df = pd.DataFrame(composer_embeddings)\n",
    "production_company_df.to_csv(\"/Users/drew/data science club project/embeddings/production_company_embeddings_042424.csv\", index=False)\n",
    "composer_df.to_csv(\"/Users/drew/data science club project/embeddings/composer_embeddings_042424.csv\", index=False)"
   ]
  }
 ],
 "metadata": {
  "kernelspec": {
   "display_name": "Python 3 (ipykernel)",
   "language": "python",
   "name": "python3"
  },
  "language_info": {
   "codemirror_mode": {
    "name": "ipython",
    "version": 3
   },
   "file_extension": ".py",
   "mimetype": "text/x-python",
   "name": "python",
   "nbconvert_exporter": "python",
   "pygments_lexer": "ipython3",
   "version": "3.11.4"
  }
 },
 "nbformat": 4,
 "nbformat_minor": 5
}
